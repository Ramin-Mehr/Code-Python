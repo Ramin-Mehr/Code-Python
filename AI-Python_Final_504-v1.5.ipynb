{
 "cells": [
  {
   "cell_type": "markdown",
   "id": "ce74fd15",
   "metadata": {},
   "source": [
    "# <p style=\"background-color:green; font-family:calibri; font-size:120%; text-color:white; text-align:center;color:white\" id=\"data\"> FINAL PROJECT (Python - Module 504)</p>"
   ]
  },
  {
   "cell_type": "code",
   "execution_count": 2,
   "id": "70c8817f",
   "metadata": {},
   "outputs": [
    {
     "data": {
      "text/html": [
       "\n",
       "<img src=\"https://www.gisma.com/media/1198/gisma-business-school-logo.svg\" \n",
       "width=\"240\" height=\"240\"style=\"margin-left:auto ;margin-right:auto \"/>'\n"
      ],
      "text/plain": [
       "<IPython.core.display.HTML object>"
      ]
     },
     "execution_count": 2,
     "metadata": {},
     "output_type": "execute_result"
    },
    {
     "data": {
      "application/javascript": [
       "\n",
       "            setTimeout(function() {\n",
       "                var nbb_cell_id = 2;\n",
       "                var nbb_unformatted_code = \"from IPython.display import HTML\\n\\nheader = \\\"\\\"\\\"\\n<img src=\\\"https://www.gisma.com/media/1198/gisma-business-school-logo.svg\\\" \\nwidth=\\\"240\\\" height=\\\"240\\\"style=\\\"margin-left:auto ;margin-right:auto \\\"/>'\\n\\\"\\\"\\\"\\nHTML(header)\";\n",
       "                var nbb_formatted_code = \"from IPython.display import HTML\\n\\nheader = \\\"\\\"\\\"\\n<img src=\\\"https://www.gisma.com/media/1198/gisma-business-school-logo.svg\\\" \\nwidth=\\\"240\\\" height=\\\"240\\\"style=\\\"margin-left:auto ;margin-right:auto \\\"/>'\\n\\\"\\\"\\\"\\nHTML(header)\";\n",
       "                var nbb_cells = Jupyter.notebook.get_cells();\n",
       "                for (var i = 0; i < nbb_cells.length; ++i) {\n",
       "                    if (nbb_cells[i].input_prompt_number == nbb_cell_id) {\n",
       "                        if (nbb_cells[i].get_text() == nbb_unformatted_code) {\n",
       "                             nbb_cells[i].set_text(nbb_formatted_code);\n",
       "                        }\n",
       "                        break;\n",
       "                    }\n",
       "                }\n",
       "            }, 500);\n",
       "            "
      ],
      "text/plain": [
       "<IPython.core.display.Javascript object>"
      ]
     },
     "metadata": {},
     "output_type": "display_data"
    }
   ],
   "source": [
    "from IPython.display import HTML\n",
    "\n",
    "header = \"\"\"\n",
    "<img src=\"https://www.gisma.com/media/1198/gisma-business-school-logo.svg\" \n",
    "width=\"240\" height=\"240\"style=\"margin-left:auto ;margin-right:auto \"/>'\n",
    "\"\"\"\n",
    "HTML(header)"
   ]
  },
  {
   "cell_type": "markdown",
   "id": "c10a23a1",
   "metadata": {},
   "source": [
    "# <p style=\"background-color:green; font-family:calibri; font-size:120%; text-color:white; text-align:center;color:white\" id=\"data\"> Business Problem Understanding</p>"
   ]
  },
  {
   "attachments": {},
   "cell_type": "markdown",
   "id": "410d8c6e",
   "metadata": {},
   "source": [
    "As a data science consultant, I have been hired to build an exploratory data analysis pipeline for the given dataset, `WA_Fn-UseC_-Telco-Customer-Churn.CSV`, provided by the client company.The dataset contains 7k records and 20 features. My task is to answer the 10 business questions given by the client company and create a Jupyter Notebook to explain my analysis.\n",
    "\n",
    "The exploratory data analysis pipeline I have designed and implemented includes the following steps:\n",
    "\n",
    "1. Data Cleaning: Identifying and addressing any missing or incorrect data.\n",
    "2. Exploratory Data Analysis: Examining the dataset to better understand its structure and content.\n",
    "3. Data Visualization: Developing visualizations to better illustrate the data and answer the business questions.\n",
    "4. Results: Summarizing the results and providing the client company with actionable insights.\n",
    "\n",
    "This dataset contains information on a client of TelCo's in the industry, including demographics, purchases of various services, monthly and total payments for each customer, and churn rates. As a result, I made an effort to respond to and explain a few inquiries that are usually intriguing from a business perspective. The resulting Jupyter Notebook will be submitted to the client company, containing the visualizations, results of the exploratory data analysis, models, and recommendations.\n",
    "\n",
    "**Dataset Download link🔗:**\n",
    "\n",
    "https://drive.google.com/drive/folders/1tVeHMCC-L7UBGAf5vRRHrLr8qhdkKtRs"
   ]
  },
  {
   "cell_type": "markdown",
   "id": "313b6e32",
   "metadata": {},
   "source": [
    "# <p style=\" font-family:calibri; font-size:70%; text-color:Black; text-align:center;color:black\" id=\"data\"> Variable Description</p>"
   ]
  },
  {
   "cell_type": "markdown",
   "id": "87f104ff",
   "metadata": {},
   "source": [
    "\n",
    "|Row #|Attribute|Description|\n",
    "|:--------|:-------|:---------|\n",
    "|1|customerID|Unique Values|\n",
    "|2|gender|Whether the customer is a male or a female|\n",
    "|3|SeniorCitizen|Indicates if the customer is 65 or older (1, 0)|\n",
    "|4|Partner|Whether the customer has a partner or not (Yes, No)|\n",
    "|5|Dependents|Whether the customer has dependents or not (Yes, No)|\n",
    "|6|Tenure|Number of months the customer has stayed with the company|\n",
    "|7|PhoneService|Whether the customer has a phone service or not (Yes, No)|\n",
    "|8|MultipleLines|Whether the customer has multiple lines or not (Yes, No, No phone service)|\n",
    "|9|InternetService|Customer’s internet service provider (DSL, Fiber optic, No)|\n",
    "|10|OnlineSecurity|Whether the customer has online security or not (Yes, No, No internet service)|\n",
    "|11|OnlineBackup|Whether the customer has online backup or not (Yes, No, No internet service)|\n",
    "|12|DeviceProtection|Whether the customer has device protection or not (Yes, No, No internet service)|\n",
    "|13|TechSupport|Whether the customer has tech support or not (Yes, No, No internet service)|\n",
    "|14|StreamingTV|Whether the customer has streaming TV or not (Yes, No, No internet service)|\n",
    "|15|StreamingMovies|Whether the customer has streaming movies or not (Yes, No, No internet service)|\n",
    "|16|Contract|The contract term of the customer (Month-to-month, One year, Two year)|\n",
    "|17|PaperlessBilling|Whether the customer has paperless billing or not (Yes, No)|\n",
    "|18|PaymentMethod|The customer’s payment method (Electronic check, Mailed check, Bank transfer (automatic), Credit card (automatic))|\n",
    "|19|MonthlyCharges|The amount charged to the customer monthly|\n",
    "|20|TotalCharges|The total amount charged to the customer|\n",
    "|21|Churn|Customers who left within the last month, the column is called Churn (Yes or No)|"
   ]
  },
  {
   "cell_type": "markdown",
   "id": "803fe035",
   "metadata": {},
   "source": [
    "# [Table of Contents](#Table-of-Contents)\n",
    "\n",
    "- [1. Importing Libraries](#dataa)\n",
    "- [2. Data Collection](#collection)\n",
    "- [3. Questions](#Questions)\n",
    "- 3.01 [Q01: Which client records were incorrectly added or are empty? Suggest solutions and take necessary action to ensure clean data.](#q1)\n",
    "- 3.02 [Q02: We need an interactional GUI to capture customer ID from a user and present retrieved information in a readable format.](#q2)\n",
    "- 3.03 [Q03: How many male and female customers with seniority status does this company have?](#q3)\n",
    "- 3.04 [Q04: What is the percentage of customers who have churned in the given dataset?](#q4)\n",
    "- 3.05 [Q05: Q5. What are the highest and lowest total charges amongst all customers, and what is the average total charge across all customers?](#q5)\n",
    "- 3.06 [Q06: What is the Telco's diversity of subscribers depending on contract type?](#q6)\n",
    "- 3.07 [Q07: Which payment option is most frequently utilized by customers?](#q7)\n",
    "- 3.08 [Q08: What is the average monthly charge of customers who have Fiber-Optic internet services and have churned?](#q8)\n",
    "- 3.09 [Q09: What is the average monthly charges for customers with paperless billing?](#q9)\n",
    "- 3.10 [Q10: What is the distribution of tenancy of customers compared to their contracts?](#q10)\n",
    "- [4. Conclusion](#conclusion)\n",
    "- [5. Reference](#references)\n",
    "\n"
   ]
  },
  {
   "cell_type": "markdown",
   "id": "8d09e74d",
   "metadata": {},
   "source": [
    "# <p style=\"background-color:green; font-family:caliber; font-size:120%; text-color:white; text-align:center;color:white\" id=\"dataa\"> 1.Importing Libraries <a name=\"dataa\"></a></p>"
   ]
  },
  {
   "cell_type": "code",
   "execution_count": 3,
   "id": "48bd03d7",
   "metadata": {},
   "outputs": [
    {
     "data": {
      "application/javascript": [
       "\n",
       "            setTimeout(function() {\n",
       "                var nbb_cell_id = 3;\n",
       "                var nbb_unformatted_code = \"# File I/O Libraries\\nimport os\\nimport shutil\\n\\n# Network Libraries\\nimport urllib.request\\n\\n# Date and Time Libraries\\nimport datetime\\n\\n# Data Manipulation Libraries\\nimport pandas as pd\\nimport numpy as np\\n\\n# Visualization Libraries\\nimport matplotlib.pyplot as plt\\nimport seaborn as sns\";\n",
       "                var nbb_formatted_code = \"# File I/O Libraries\\nimport os\\nimport shutil\\n\\n# Network Libraries\\nimport urllib.request\\n\\n# Date and Time Libraries\\nimport datetime\\n\\n# Data Manipulation Libraries\\nimport pandas as pd\\nimport numpy as np\\n\\n# Visualization Libraries\\nimport matplotlib.pyplot as plt\\nimport seaborn as sns\";\n",
       "                var nbb_cells = Jupyter.notebook.get_cells();\n",
       "                for (var i = 0; i < nbb_cells.length; ++i) {\n",
       "                    if (nbb_cells[i].input_prompt_number == nbb_cell_id) {\n",
       "                        if (nbb_cells[i].get_text() == nbb_unformatted_code) {\n",
       "                             nbb_cells[i].set_text(nbb_formatted_code);\n",
       "                        }\n",
       "                        break;\n",
       "                    }\n",
       "                }\n",
       "            }, 500);\n",
       "            "
      ],
      "text/plain": [
       "<IPython.core.display.Javascript object>"
      ]
     },
     "metadata": {},
     "output_type": "display_data"
    }
   ],
   "source": [
    "# File I/O Libraries\n",
    "import os\n",
    "import shutil\n",
    "\n",
    "# Network Libraries\n",
    "import urllib.request\n",
    "\n",
    "# Date and Time Libraries\n",
    "import datetime\n",
    "\n",
    "# Data Manipulation Libraries\n",
    "import pandas as pd\n",
    "import numpy as np\n",
    "\n",
    "# Visualization Libraries\n",
    "import matplotlib.pyplot as plt\n",
    "import seaborn as sns"
   ]
  },
  {
   "cell_type": "markdown",
   "id": "61ae860d",
   "metadata": {},
   "source": [
    "**Library Description**\n",
    "\n",
    "|Row # | Library Name      | Description                                              |\n",
    "|:------|:------------------|:----------------------------------------------------------|\n",
    "|1     | os               | This library provides an easy way of manipulating different file paths and directories.|\n",
    "|2     | shutil            | This library provides various functions for high-level file operations such as copying, deleting, and moving files and directories.|\n",
    "|3     | urllib.request   | This library is used for opening and reading URLs.|\n",
    "|4     | datetime         | This library provides various classes and functions to perform date and time related operations.|\n",
    "|5     | pandas           | This library is used for data analysis and manipulation. It provides various functions for reading and writing data from/to different file formats.|\n",
    "|6     | numpy            | This library provides various functions for mathematical, scientific and statistical operations.|\n",
    "|7     | matplotlib       | This library provides various functions for plotting data in various forms. |\n",
    "|8     | seaborn          | This library is based on matplotlib and provides a high-level interface for drawing attractive statistical graphics.|"
   ]
  },
  {
   "cell_type": "markdown",
   "id": "a207e75e",
   "metadata": {},
   "source": [
    "# <p style=\"background-color:green; font-family:calibri; font-size:120%; text-color:white; text-align:center;color:white\" id=\"collection\"> 2. Data Collection<a name=\"collection\"></a></p>\n"
   ]
  },
  {
   "cell_type": "markdown",
   "id": "56e2d11f",
   "metadata": {},
   "source": [
    "**Download Dataset**"
   ]
  },
  {
   "cell_type": "code",
   "execution_count": 4,
   "id": "e70a5cb1",
   "metadata": {},
   "outputs": [
    {
     "name": "stdout",
     "output_type": "stream",
     "text": [
      "Download complete!\n"
     ]
    },
    {
     "data": {
      "application/javascript": [
       "\n",
       "            setTimeout(function() {\n",
       "                var nbb_cell_id = 4;\n",
       "                var nbb_unformatted_code = \"url = \\\"https://drive.google.com/uc?export=download&id=1-1yho1b7l2nGX7C0taSKmyxyT9C-rGti\\\"\\n\\nfilename = \\\"WA_Fn-UseC_-Telco-Customer-Churn.csv\\\"\\n\\nwith urllib.request.urlopen(url) as response, open(filename, \\\"wb\\\") as out_file:\\n    shutil.copyfileobj(response, out_file)\\n    print(\\\"Download complete!\\\")\";\n",
       "                var nbb_formatted_code = \"url = \\\"https://drive.google.com/uc?export=download&id=1-1yho1b7l2nGX7C0taSKmyxyT9C-rGti\\\"\\n\\nfilename = \\\"WA_Fn-UseC_-Telco-Customer-Churn.csv\\\"\\n\\nwith urllib.request.urlopen(url) as response, open(filename, \\\"wb\\\") as out_file:\\n    shutil.copyfileobj(response, out_file)\\n    print(\\\"Download complete!\\\")\";\n",
       "                var nbb_cells = Jupyter.notebook.get_cells();\n",
       "                for (var i = 0; i < nbb_cells.length; ++i) {\n",
       "                    if (nbb_cells[i].input_prompt_number == nbb_cell_id) {\n",
       "                        if (nbb_cells[i].get_text() == nbb_unformatted_code) {\n",
       "                             nbb_cells[i].set_text(nbb_formatted_code);\n",
       "                        }\n",
       "                        break;\n",
       "                    }\n",
       "                }\n",
       "            }, 500);\n",
       "            "
      ],
      "text/plain": [
       "<IPython.core.display.Javascript object>"
      ]
     },
     "metadata": {},
     "output_type": "display_data"
    }
   ],
   "source": [
    "url = \"https://drive.google.com/uc?export=download&id=1-1yho1b7l2nGX7C0taSKmyxyT9C-rGti\"\n",
    "\n",
    "filename = \"WA_Fn-UseC_-Telco-Customer-Churn.csv\"\n",
    "\n",
    "with urllib.request.urlopen(url) as response, open(filename, \"wb\") as out_file:\n",
    "    shutil.copyfileobj(response, out_file)\n",
    "    print(\"Download complete!\")"
   ]
  },
  {
   "cell_type": "markdown",
   "id": "d308f0d3",
   "metadata": {},
   "source": [
    "\n",
    "| Description|\n",
    "|:-----------|\n",
    "|The above block code downloads a file from Google Drive to be accessible easily and stores it with the specified filename in code root directoy. The urllib.request library is used to open the URL, and the shutil library is used to copy the file from the URL to the out_file. Once the file is copied, a \"Download complete!\" message is printed to the console.|\n",
    "\n",
    "---"
   ]
  },
  {
   "cell_type": "markdown",
   "id": "be60a8a3",
   "metadata": {},
   "source": [
    "**Reporting Directory**"
   ]
  },
  {
   "cell_type": "code",
   "execution_count": 5,
   "id": "9070729a",
   "metadata": {},
   "outputs": [
    {
     "data": {
      "application/javascript": [
       "\n",
       "            setTimeout(function() {\n",
       "                var nbb_cell_id = 5;\n",
       "                var nbb_unformatted_code = \"if not os.path.exists(\\\".\\\\Reports\\\"):\\n    os.mkdir(\\\"Reports\\\")\";\n",
       "                var nbb_formatted_code = \"if not os.path.exists(\\\".\\\\Reports\\\"):\\n    os.mkdir(\\\"Reports\\\")\";\n",
       "                var nbb_cells = Jupyter.notebook.get_cells();\n",
       "                for (var i = 0; i < nbb_cells.length; ++i) {\n",
       "                    if (nbb_cells[i].input_prompt_number == nbb_cell_id) {\n",
       "                        if (nbb_cells[i].get_text() == nbb_unformatted_code) {\n",
       "                             nbb_cells[i].set_text(nbb_formatted_code);\n",
       "                        }\n",
       "                        break;\n",
       "                    }\n",
       "                }\n",
       "            }, 500);\n",
       "            "
      ],
      "text/plain": [
       "<IPython.core.display.Javascript object>"
      ]
     },
     "metadata": {},
     "output_type": "display_data"
    }
   ],
   "source": [
    "if not os.path.exists(\".\\Reports\"):\n",
    "    os.mkdir(\"Reports\")"
   ]
  },
  {
   "cell_type": "markdown",
   "id": "99406a7b",
   "metadata": {},
   "source": [
    "\n",
    "| Description|\n",
    "|:-----------|\n",
    "| At the beginning of this project, a directory was created to store and distribute any output results to all relevant stakeholders. This directory serves as a platform for efficient collaboration, enabling stakeholders to access and view all the necessary output results.|\n",
    "\n",
    "---"
   ]
  },
  {
   "cell_type": "code",
   "execution_count": 6,
   "id": "df0d8601",
   "metadata": {
    "scrolled": false
   },
   "outputs": [
    {
     "data": {
      "text/html": [
       "<div>\n",
       "<style scoped>\n",
       "    .dataframe tbody tr th:only-of-type {\n",
       "        vertical-align: middle;\n",
       "    }\n",
       "\n",
       "    .dataframe tbody tr th {\n",
       "        vertical-align: top;\n",
       "    }\n",
       "\n",
       "    .dataframe thead th {\n",
       "        text-align: right;\n",
       "    }\n",
       "</style>\n",
       "<table border=\"1\" class=\"dataframe\">\n",
       "  <thead>\n",
       "    <tr style=\"text-align: right;\">\n",
       "      <th></th>\n",
       "      <th>customerID</th>\n",
       "      <th>gender</th>\n",
       "      <th>SeniorCitizen</th>\n",
       "      <th>Partner</th>\n",
       "      <th>Dependents</th>\n",
       "      <th>tenure</th>\n",
       "      <th>PhoneService</th>\n",
       "      <th>MultipleLines</th>\n",
       "      <th>InternetService</th>\n",
       "      <th>OnlineSecurity</th>\n",
       "      <th>...</th>\n",
       "      <th>DeviceProtection</th>\n",
       "      <th>TechSupport</th>\n",
       "      <th>StreamingTV</th>\n",
       "      <th>StreamingMovies</th>\n",
       "      <th>Contract</th>\n",
       "      <th>PaperlessBilling</th>\n",
       "      <th>PaymentMethod</th>\n",
       "      <th>MonthlyCharges</th>\n",
       "      <th>TotalCharges</th>\n",
       "      <th>Churn</th>\n",
       "    </tr>\n",
       "  </thead>\n",
       "  <tbody>\n",
       "    <tr>\n",
       "      <th>0</th>\n",
       "      <td>7590-VHVEG</td>\n",
       "      <td>Female</td>\n",
       "      <td>0</td>\n",
       "      <td>Yes</td>\n",
       "      <td>No</td>\n",
       "      <td>1</td>\n",
       "      <td>No</td>\n",
       "      <td>No phone service</td>\n",
       "      <td>DSL</td>\n",
       "      <td>No</td>\n",
       "      <td>...</td>\n",
       "      <td>No</td>\n",
       "      <td>No</td>\n",
       "      <td>No</td>\n",
       "      <td>No</td>\n",
       "      <td>Month-to-month</td>\n",
       "      <td>Yes</td>\n",
       "      <td>Electronic check</td>\n",
       "      <td>29.85</td>\n",
       "      <td>29.85</td>\n",
       "      <td>No</td>\n",
       "    </tr>\n",
       "    <tr>\n",
       "      <th>1</th>\n",
       "      <td>5575-GNVDE</td>\n",
       "      <td>Male</td>\n",
       "      <td>0</td>\n",
       "      <td>No</td>\n",
       "      <td>No</td>\n",
       "      <td>34</td>\n",
       "      <td>Yes</td>\n",
       "      <td>No</td>\n",
       "      <td>DSL</td>\n",
       "      <td>Yes</td>\n",
       "      <td>...</td>\n",
       "      <td>Yes</td>\n",
       "      <td>No</td>\n",
       "      <td>No</td>\n",
       "      <td>No</td>\n",
       "      <td>One year</td>\n",
       "      <td>No</td>\n",
       "      <td>Mailed check</td>\n",
       "      <td>56.95</td>\n",
       "      <td>1889.5</td>\n",
       "      <td>No</td>\n",
       "    </tr>\n",
       "    <tr>\n",
       "      <th>2</th>\n",
       "      <td>3668-QPYBK</td>\n",
       "      <td>Male</td>\n",
       "      <td>0</td>\n",
       "      <td>No</td>\n",
       "      <td>No</td>\n",
       "      <td>2</td>\n",
       "      <td>Yes</td>\n",
       "      <td>No</td>\n",
       "      <td>DSL</td>\n",
       "      <td>Yes</td>\n",
       "      <td>...</td>\n",
       "      <td>No</td>\n",
       "      <td>No</td>\n",
       "      <td>No</td>\n",
       "      <td>No</td>\n",
       "      <td>Month-to-month</td>\n",
       "      <td>Yes</td>\n",
       "      <td>Mailed check</td>\n",
       "      <td>53.85</td>\n",
       "      <td>108.15</td>\n",
       "      <td>Yes</td>\n",
       "    </tr>\n",
       "  </tbody>\n",
       "</table>\n",
       "<p>3 rows × 21 columns</p>\n",
       "</div>"
      ],
      "text/plain": [
       "   customerID  gender  SeniorCitizen Partner Dependents  tenure PhoneService  \\\n",
       "0  7590-VHVEG  Female              0     Yes         No       1           No   \n",
       "1  5575-GNVDE    Male              0      No         No      34          Yes   \n",
       "2  3668-QPYBK    Male              0      No         No       2          Yes   \n",
       "\n",
       "      MultipleLines InternetService OnlineSecurity  ... DeviceProtection  \\\n",
       "0  No phone service             DSL             No  ...               No   \n",
       "1                No             DSL            Yes  ...              Yes   \n",
       "2                No             DSL            Yes  ...               No   \n",
       "\n",
       "  TechSupport StreamingTV StreamingMovies        Contract PaperlessBilling  \\\n",
       "0          No          No              No  Month-to-month              Yes   \n",
       "1          No          No              No        One year               No   \n",
       "2          No          No              No  Month-to-month              Yes   \n",
       "\n",
       "      PaymentMethod MonthlyCharges  TotalCharges Churn  \n",
       "0  Electronic check          29.85         29.85    No  \n",
       "1      Mailed check          56.95        1889.5    No  \n",
       "2      Mailed check          53.85        108.15   Yes  \n",
       "\n",
       "[3 rows x 21 columns]"
      ]
     },
     "execution_count": 6,
     "metadata": {},
     "output_type": "execute_result"
    },
    {
     "data": {
      "application/javascript": [
       "\n",
       "            setTimeout(function() {\n",
       "                var nbb_cell_id = 6;\n",
       "                var nbb_unformatted_code = \"df = pd.read_csv(\\\"WA_Fn-UseC_-Telco-Customer-Churn.csv\\\")\\ndf.head(3)\";\n",
       "                var nbb_formatted_code = \"df = pd.read_csv(\\\"WA_Fn-UseC_-Telco-Customer-Churn.csv\\\")\\ndf.head(3)\";\n",
       "                var nbb_cells = Jupyter.notebook.get_cells();\n",
       "                for (var i = 0; i < nbb_cells.length; ++i) {\n",
       "                    if (nbb_cells[i].input_prompt_number == nbb_cell_id) {\n",
       "                        if (nbb_cells[i].get_text() == nbb_unformatted_code) {\n",
       "                             nbb_cells[i].set_text(nbb_formatted_code);\n",
       "                        }\n",
       "                        break;\n",
       "                    }\n",
       "                }\n",
       "            }, 500);\n",
       "            "
      ],
      "text/plain": [
       "<IPython.core.display.Javascript object>"
      ]
     },
     "metadata": {},
     "output_type": "display_data"
    }
   ],
   "source": [
    "df = pd.read_csv(\"WA_Fn-UseC_-Telco-Customer-Churn.csv\")\n",
    "df.head(3)"
   ]
  },
  {
   "cell_type": "markdown",
   "id": "93f39a2f",
   "metadata": {},
   "source": [
    "\n",
    "| Description|\n",
    "|:-----------|\n",
    "| The pd.read_csv() method is used to read the csv file into a dataframe and the head(3) method is used to view the first three rows of the dataframe.|"
   ]
  },
  {
   "cell_type": "code",
   "execution_count": 7,
   "id": "1c9616f2",
   "metadata": {},
   "outputs": [
    {
     "name": "stdout",
     "output_type": "stream",
     "text": [
      "<class 'pandas.core.frame.DataFrame'>\n",
      "RangeIndex: 7043 entries, 0 to 7042\n",
      "Data columns (total 21 columns):\n",
      " #   Column            Non-Null Count  Dtype  \n",
      "---  ------            --------------  -----  \n",
      " 0   customerID        7043 non-null   object \n",
      " 1   gender            7043 non-null   object \n",
      " 2   SeniorCitizen     7043 non-null   int64  \n",
      " 3   Partner           7043 non-null   object \n",
      " 4   Dependents        7043 non-null   object \n",
      " 5   tenure            7043 non-null   int64  \n",
      " 6   PhoneService      7043 non-null   object \n",
      " 7   MultipleLines     7043 non-null   object \n",
      " 8   InternetService   7043 non-null   object \n",
      " 9   OnlineSecurity    7043 non-null   object \n",
      " 10  OnlineBackup      7043 non-null   object \n",
      " 11  DeviceProtection  7043 non-null   object \n",
      " 12  TechSupport       7043 non-null   object \n",
      " 13  StreamingTV       7043 non-null   object \n",
      " 14  StreamingMovies   7043 non-null   object \n",
      " 15  Contract          7043 non-null   object \n",
      " 16  PaperlessBilling  7043 non-null   object \n",
      " 17  PaymentMethod     7043 non-null   object \n",
      " 18  MonthlyCharges    7043 non-null   float64\n",
      " 19  TotalCharges      7043 non-null   object \n",
      " 20  Churn             7043 non-null   object \n",
      "dtypes: float64(1), int64(2), object(18)\n",
      "memory usage: 1.1+ MB\n"
     ]
    },
    {
     "data": {
      "application/javascript": [
       "\n",
       "            setTimeout(function() {\n",
       "                var nbb_cell_id = 7;\n",
       "                var nbb_unformatted_code = \"df.info()\";\n",
       "                var nbb_formatted_code = \"df.info()\";\n",
       "                var nbb_cells = Jupyter.notebook.get_cells();\n",
       "                for (var i = 0; i < nbb_cells.length; ++i) {\n",
       "                    if (nbb_cells[i].input_prompt_number == nbb_cell_id) {\n",
       "                        if (nbb_cells[i].get_text() == nbb_unformatted_code) {\n",
       "                             nbb_cells[i].set_text(nbb_formatted_code);\n",
       "                        }\n",
       "                        break;\n",
       "                    }\n",
       "                }\n",
       "            }, 500);\n",
       "            "
      ],
      "text/plain": [
       "<IPython.core.display.Javascript object>"
      ]
     },
     "metadata": {},
     "output_type": "display_data"
    }
   ],
   "source": [
    "df.info()"
   ]
  },
  {
   "cell_type": "markdown",
   "id": "2633c86b",
   "metadata": {},
   "source": [
    "| Description|\n",
    "|:-----------|\n",
    "|This dataset contains information about customers of a telecom company and their churn rate, i.e. whether they stopped using the company's services. The df.info() command is used to display information about the dataset, including the column names, data types, and number of non-null values in each column. This is useful for getting an overview of the dataset before performing data analysis.|"
   ]
  },
  {
   "cell_type": "markdown",
   "id": "099f4454",
   "metadata": {},
   "source": [
    "# <p style=\"background-color:green; font-family:calibri; font-size:120%; text-color:white; text-align:center;color:white\" id=\"Questions\"> 3. Questions<a name=\"Questions\"></a></p>\n"
   ]
  },
  {
   "cell_type": "markdown",
   "id": "6a88684d",
   "metadata": {},
   "source": [
    "# <p style=\"background-color:#1434A4; font-family:calibri; font-size:70%; text-color:white; text-align:left;color:white\" id=\"q1\"> Q1. Which client records were incorrectly added or are empty? Suggest solutions and take necessary action to ensure clean data.<a name=\"q1\"></a></p>"
   ]
  },
  {
   "cell_type": "markdown",
   "id": "3147b402",
   "metadata": {},
   "source": [
    "**A1.1 Duplicate Checking**"
   ]
  },
  {
   "cell_type": "code",
   "execution_count": 8,
   "id": "6530f02f",
   "metadata": {},
   "outputs": [
    {
     "data": {
      "text/plain": [
       "0"
      ]
     },
     "execution_count": 8,
     "metadata": {},
     "output_type": "execute_result"
    },
    {
     "data": {
      "application/javascript": [
       "\n",
       "            setTimeout(function() {\n",
       "                var nbb_cell_id = 8;\n",
       "                var nbb_unformatted_code = \"df.duplicated().sum()\";\n",
       "                var nbb_formatted_code = \"df.duplicated().sum()\";\n",
       "                var nbb_cells = Jupyter.notebook.get_cells();\n",
       "                for (var i = 0; i < nbb_cells.length; ++i) {\n",
       "                    if (nbb_cells[i].input_prompt_number == nbb_cell_id) {\n",
       "                        if (nbb_cells[i].get_text() == nbb_unformatted_code) {\n",
       "                             nbb_cells[i].set_text(nbb_formatted_code);\n",
       "                        }\n",
       "                        break;\n",
       "                    }\n",
       "                }\n",
       "            }, 500);\n",
       "            "
      ],
      "text/plain": [
       "<IPython.core.display.Javascript object>"
      ]
     },
     "metadata": {},
     "output_type": "display_data"
    }
   ],
   "source": [
    "df.duplicated().sum()"
   ]
  },
  {
   "cell_type": "markdown",
   "id": "9ed3a039",
   "metadata": {},
   "source": [
    "| Description|\n",
    "|:-----------|\n",
    "|The above block of code checks for any duplicate rows in the DataFrame and returns the number of duplicates.As Data explored no duplicate has been found in this section.|\n",
    "\n",
    "---"
   ]
  },
  {
   "cell_type": "markdown",
   "id": "1e01d0a8",
   "metadata": {},
   "source": [
    "**A1.2 Datatype Casting**"
   ]
  },
  {
   "cell_type": "code",
   "execution_count": 9,
   "id": "975abac8",
   "metadata": {},
   "outputs": [
    {
     "name": "stdout",
     "output_type": "stream",
     "text": [
      "<class 'pandas.core.frame.DataFrame'>\n",
      "RangeIndex: 7043 entries, 0 to 7042\n",
      "Data columns (total 21 columns):\n",
      " #   Column            Non-Null Count  Dtype  \n",
      "---  ------            --------------  -----  \n",
      " 0   customerID        7043 non-null   object \n",
      " 1   gender            7043 non-null   object \n",
      " 2   SeniorCitizen     7043 non-null   int64  \n",
      " 3   Partner           7043 non-null   object \n",
      " 4   Dependents        7043 non-null   object \n",
      " 5   tenure            7043 non-null   int64  \n",
      " 6   PhoneService      7043 non-null   object \n",
      " 7   MultipleLines     7043 non-null   object \n",
      " 8   InternetService   7043 non-null   object \n",
      " 9   OnlineSecurity    7043 non-null   object \n",
      " 10  OnlineBackup      7043 non-null   object \n",
      " 11  DeviceProtection  7043 non-null   object \n",
      " 12  TechSupport       7043 non-null   object \n",
      " 13  StreamingTV       7043 non-null   object \n",
      " 14  StreamingMovies   7043 non-null   object \n",
      " 15  Contract          7043 non-null   object \n",
      " 16  PaperlessBilling  7043 non-null   object \n",
      " 17  PaymentMethod     7043 non-null   object \n",
      " 18  MonthlyCharges    7043 non-null   float64\n",
      " 19  TotalCharges      7032 non-null   float64\n",
      " 20  Churn             7043 non-null   object \n",
      "dtypes: float64(2), int64(2), object(17)\n",
      "memory usage: 1.1+ MB\n"
     ]
    },
    {
     "data": {
      "application/javascript": [
       "\n",
       "            setTimeout(function() {\n",
       "                var nbb_cell_id = 9;\n",
       "                var nbb_unformatted_code = \"df[\\\"TotalCharges\\\"] = df[\\\"TotalCharges\\\"].replace(r\\\"\\\\s+\\\", np.nan, regex=True)\\ndf[\\\"TotalCharges\\\"] = pd.to_numeric(df[\\\"TotalCharges\\\"])\\ndf.info()\";\n",
       "                var nbb_formatted_code = \"df[\\\"TotalCharges\\\"] = df[\\\"TotalCharges\\\"].replace(r\\\"\\\\s+\\\", np.nan, regex=True)\\ndf[\\\"TotalCharges\\\"] = pd.to_numeric(df[\\\"TotalCharges\\\"])\\ndf.info()\";\n",
       "                var nbb_cells = Jupyter.notebook.get_cells();\n",
       "                for (var i = 0; i < nbb_cells.length; ++i) {\n",
       "                    if (nbb_cells[i].input_prompt_number == nbb_cell_id) {\n",
       "                        if (nbb_cells[i].get_text() == nbb_unformatted_code) {\n",
       "                             nbb_cells[i].set_text(nbb_formatted_code);\n",
       "                        }\n",
       "                        break;\n",
       "                    }\n",
       "                }\n",
       "            }, 500);\n",
       "            "
      ],
      "text/plain": [
       "<IPython.core.display.Javascript object>"
      ]
     },
     "metadata": {},
     "output_type": "display_data"
    }
   ],
   "source": [
    "df[\"TotalCharges\"] = df[\"TotalCharges\"].replace(r\"\\s+\", np.nan, regex=True)\n",
    "df[\"TotalCharges\"] = pd.to_numeric(df[\"TotalCharges\"])\n",
    "df.info()"
   ]
  },
  {
   "cell_type": "markdown",
   "id": "9b90ae69",
   "metadata": {},
   "source": [
    "| Description|\n",
    "|:-----------|\n",
    "| After examining the \"TotalCharges\" field in our data set, we discovered that it was an object datatype rather than a float datatype like it should be. Upon further investigation, we discovered that some of the values contained spaces, so we set them to null values. To accomplish this, we employed a regex formula and the numpy library.\n",
    "\n",
    "---"
   ]
  },
  {
   "cell_type": "markdown",
   "id": "75c8e264",
   "metadata": {},
   "source": [
    "**A1.3 Null Values**"
   ]
  },
  {
   "cell_type": "code",
   "execution_count": 10,
   "id": "cd26c0d2",
   "metadata": {},
   "outputs": [
    {
     "data": {
      "text/plain": [
       "customerID           0\n",
       "gender               0\n",
       "SeniorCitizen        0\n",
       "Partner              0\n",
       "Dependents           0\n",
       "tenure               0\n",
       "PhoneService         0\n",
       "MultipleLines        0\n",
       "InternetService      0\n",
       "OnlineSecurity       0\n",
       "OnlineBackup         0\n",
       "DeviceProtection     0\n",
       "TechSupport          0\n",
       "StreamingTV          0\n",
       "StreamingMovies      0\n",
       "Contract             0\n",
       "PaperlessBilling     0\n",
       "PaymentMethod        0\n",
       "MonthlyCharges       0\n",
       "TotalCharges        11\n",
       "Churn                0\n",
       "dtype: int64"
      ]
     },
     "execution_count": 10,
     "metadata": {},
     "output_type": "execute_result"
    },
    {
     "data": {
      "application/javascript": [
       "\n",
       "            setTimeout(function() {\n",
       "                var nbb_cell_id = 10;\n",
       "                var nbb_unformatted_code = \"df.isnull().sum()\";\n",
       "                var nbb_formatted_code = \"df.isnull().sum()\";\n",
       "                var nbb_cells = Jupyter.notebook.get_cells();\n",
       "                for (var i = 0; i < nbb_cells.length; ++i) {\n",
       "                    if (nbb_cells[i].input_prompt_number == nbb_cell_id) {\n",
       "                        if (nbb_cells[i].get_text() == nbb_unformatted_code) {\n",
       "                             nbb_cells[i].set_text(nbb_formatted_code);\n",
       "                        }\n",
       "                        break;\n",
       "                    }\n",
       "                }\n",
       "            }, 500);\n",
       "            "
      ],
      "text/plain": [
       "<IPython.core.display.Javascript object>"
      ]
     },
     "metadata": {},
     "output_type": "display_data"
    }
   ],
   "source": [
    "df.isnull().sum()"
   ]
  },
  {
   "cell_type": "markdown",
   "id": "217a45c5",
   "metadata": {},
   "source": [
    "| Description|\n",
    "|:-----------|\n",
    "|The above code results in 11 null values, indicating that 11 values in the dataframe are missing or have no data. This could be due to incomplete data when the data was collected, or errors in the data entry process.\n",
    "\n",
    "---"
   ]
  },
  {
   "cell_type": "code",
   "execution_count": 11,
   "id": "b3807c02",
   "metadata": {
    "scrolled": true
   },
   "outputs": [
    {
     "data": {
      "text/html": [
       "<div>\n",
       "<style scoped>\n",
       "    .dataframe tbody tr th:only-of-type {\n",
       "        vertical-align: middle;\n",
       "    }\n",
       "\n",
       "    .dataframe tbody tr th {\n",
       "        vertical-align: top;\n",
       "    }\n",
       "\n",
       "    .dataframe thead th {\n",
       "        text-align: right;\n",
       "    }\n",
       "</style>\n",
       "<table border=\"1\" class=\"dataframe\">\n",
       "  <thead>\n",
       "    <tr style=\"text-align: right;\">\n",
       "      <th></th>\n",
       "      <th>customerID</th>\n",
       "      <th>gender</th>\n",
       "      <th>SeniorCitizen</th>\n",
       "      <th>Partner</th>\n",
       "      <th>Dependents</th>\n",
       "      <th>tenure</th>\n",
       "      <th>PhoneService</th>\n",
       "      <th>MultipleLines</th>\n",
       "      <th>InternetService</th>\n",
       "      <th>OnlineSecurity</th>\n",
       "      <th>...</th>\n",
       "      <th>DeviceProtection</th>\n",
       "      <th>TechSupport</th>\n",
       "      <th>StreamingTV</th>\n",
       "      <th>StreamingMovies</th>\n",
       "      <th>Contract</th>\n",
       "      <th>PaperlessBilling</th>\n",
       "      <th>PaymentMethod</th>\n",
       "      <th>MonthlyCharges</th>\n",
       "      <th>TotalCharges</th>\n",
       "      <th>Churn</th>\n",
       "    </tr>\n",
       "  </thead>\n",
       "  <tbody>\n",
       "    <tr>\n",
       "      <th>488</th>\n",
       "      <td>4472-LVYGI</td>\n",
       "      <td>Female</td>\n",
       "      <td>0</td>\n",
       "      <td>Yes</td>\n",
       "      <td>Yes</td>\n",
       "      <td>0</td>\n",
       "      <td>No</td>\n",
       "      <td>No phone service</td>\n",
       "      <td>DSL</td>\n",
       "      <td>Yes</td>\n",
       "      <td>...</td>\n",
       "      <td>Yes</td>\n",
       "      <td>Yes</td>\n",
       "      <td>Yes</td>\n",
       "      <td>No</td>\n",
       "      <td>Two year</td>\n",
       "      <td>Yes</td>\n",
       "      <td>Bank transfer (automatic)</td>\n",
       "      <td>52.55</td>\n",
       "      <td>NaN</td>\n",
       "      <td>No</td>\n",
       "    </tr>\n",
       "    <tr>\n",
       "      <th>753</th>\n",
       "      <td>3115-CZMZD</td>\n",
       "      <td>Male</td>\n",
       "      <td>0</td>\n",
       "      <td>No</td>\n",
       "      <td>Yes</td>\n",
       "      <td>0</td>\n",
       "      <td>Yes</td>\n",
       "      <td>No</td>\n",
       "      <td>No</td>\n",
       "      <td>No internet service</td>\n",
       "      <td>...</td>\n",
       "      <td>No internet service</td>\n",
       "      <td>No internet service</td>\n",
       "      <td>No internet service</td>\n",
       "      <td>No internet service</td>\n",
       "      <td>Two year</td>\n",
       "      <td>No</td>\n",
       "      <td>Mailed check</td>\n",
       "      <td>20.25</td>\n",
       "      <td>NaN</td>\n",
       "      <td>No</td>\n",
       "    </tr>\n",
       "    <tr>\n",
       "      <th>936</th>\n",
       "      <td>5709-LVOEQ</td>\n",
       "      <td>Female</td>\n",
       "      <td>0</td>\n",
       "      <td>Yes</td>\n",
       "      <td>Yes</td>\n",
       "      <td>0</td>\n",
       "      <td>Yes</td>\n",
       "      <td>No</td>\n",
       "      <td>DSL</td>\n",
       "      <td>Yes</td>\n",
       "      <td>...</td>\n",
       "      <td>Yes</td>\n",
       "      <td>No</td>\n",
       "      <td>Yes</td>\n",
       "      <td>Yes</td>\n",
       "      <td>Two year</td>\n",
       "      <td>No</td>\n",
       "      <td>Mailed check</td>\n",
       "      <td>80.85</td>\n",
       "      <td>NaN</td>\n",
       "      <td>No</td>\n",
       "    </tr>\n",
       "  </tbody>\n",
       "</table>\n",
       "<p>3 rows × 21 columns</p>\n",
       "</div>"
      ],
      "text/plain": [
       "     customerID  gender  SeniorCitizen Partner Dependents  tenure  \\\n",
       "488  4472-LVYGI  Female              0     Yes        Yes       0   \n",
       "753  3115-CZMZD    Male              0      No        Yes       0   \n",
       "936  5709-LVOEQ  Female              0     Yes        Yes       0   \n",
       "\n",
       "    PhoneService     MultipleLines InternetService       OnlineSecurity  ...  \\\n",
       "488           No  No phone service             DSL                  Yes  ...   \n",
       "753          Yes                No              No  No internet service  ...   \n",
       "936          Yes                No             DSL                  Yes  ...   \n",
       "\n",
       "        DeviceProtection          TechSupport          StreamingTV  \\\n",
       "488                  Yes                  Yes                  Yes   \n",
       "753  No internet service  No internet service  No internet service   \n",
       "936                  Yes                   No                  Yes   \n",
       "\n",
       "         StreamingMovies  Contract PaperlessBilling  \\\n",
       "488                   No  Two year              Yes   \n",
       "753  No internet service  Two year               No   \n",
       "936                  Yes  Two year               No   \n",
       "\n",
       "                 PaymentMethod MonthlyCharges  TotalCharges  Churn  \n",
       "488  Bank transfer (automatic)          52.55           NaN     No  \n",
       "753               Mailed check          20.25           NaN     No  \n",
       "936               Mailed check          80.85           NaN     No  \n",
       "\n",
       "[3 rows x 21 columns]"
      ]
     },
     "execution_count": 11,
     "metadata": {},
     "output_type": "execute_result"
    },
    {
     "data": {
      "application/javascript": [
       "\n",
       "            setTimeout(function() {\n",
       "                var nbb_cell_id = 11;\n",
       "                var nbb_unformatted_code = \"df[df.isna().any(axis=1)]\\nnull_idx = df[df[\\\"TotalCharges\\\"].isna()]\\ndf[df[\\\"TotalCharges\\\"].isna()].head(3)\";\n",
       "                var nbb_formatted_code = \"df[df.isna().any(axis=1)]\\nnull_idx = df[df[\\\"TotalCharges\\\"].isna()]\\ndf[df[\\\"TotalCharges\\\"].isna()].head(3)\";\n",
       "                var nbb_cells = Jupyter.notebook.get_cells();\n",
       "                for (var i = 0; i < nbb_cells.length; ++i) {\n",
       "                    if (nbb_cells[i].input_prompt_number == nbb_cell_id) {\n",
       "                        if (nbb_cells[i].get_text() == nbb_unformatted_code) {\n",
       "                             nbb_cells[i].set_text(nbb_formatted_code);\n",
       "                        }\n",
       "                        break;\n",
       "                    }\n",
       "                }\n",
       "            }, 500);\n",
       "            "
      ],
      "text/plain": [
       "<IPython.core.display.Javascript object>"
      ]
     },
     "metadata": {},
     "output_type": "display_data"
    }
   ],
   "source": [
    "df[df.isna().any(axis=1)]\n",
    "null_idx = df[df[\"TotalCharges\"].isna()]\n",
    "df[df[\"TotalCharges\"].isna()].head(3)"
   ]
  },
  {
   "cell_type": "markdown",
   "id": "8607c850",
   "metadata": {},
   "source": [
    "| Description|\n",
    "|:-----------|\n",
    "|The above result codes return the first three rows of the dataframe where the TotalCharges column is null. This can be useful for identifying rows that need to be processed or replaced in order to properly analyze the data.\n",
    "\n",
    "---"
   ]
  },
  {
   "cell_type": "code",
   "execution_count": 12,
   "id": "197260f5",
   "metadata": {},
   "outputs": [
    {
     "data": {
      "text/plain": [
       "Int64Index([488, 753, 936, 1082, 1340, 3331, 3826, 4380, 5218, 6670, 6754], dtype='int64')"
      ]
     },
     "execution_count": 12,
     "metadata": {},
     "output_type": "execute_result"
    },
    {
     "data": {
      "application/javascript": [
       "\n",
       "            setTimeout(function() {\n",
       "                var nbb_cell_id = 12;\n",
       "                var nbb_unformatted_code = \"null_idx.index\";\n",
       "                var nbb_formatted_code = \"null_idx.index\";\n",
       "                var nbb_cells = Jupyter.notebook.get_cells();\n",
       "                for (var i = 0; i < nbb_cells.length; ++i) {\n",
       "                    if (nbb_cells[i].input_prompt_number == nbb_cell_id) {\n",
       "                        if (nbb_cells[i].get_text() == nbb_unformatted_code) {\n",
       "                             nbb_cells[i].set_text(nbb_formatted_code);\n",
       "                        }\n",
       "                        break;\n",
       "                    }\n",
       "                }\n",
       "            }, 500);\n",
       "            "
      ],
      "text/plain": [
       "<IPython.core.display.Javascript object>"
      ]
     },
     "metadata": {},
     "output_type": "display_data"
    }
   ],
   "source": [
    "null_idx.index"
   ]
  },
  {
   "cell_type": "markdown",
   "id": "3c2cb7de",
   "metadata": {},
   "source": [
    "| Description|\n",
    "|:-----------|\n",
    "|The above result codes are returning the index values of any empty or null values in the dataframe. This is useful for identifying any missing data that may need to be filled in or removed.\n",
    "\n",
    "---"
   ]
  },
  {
   "cell_type": "code",
   "execution_count": 13,
   "id": "6f6af61c",
   "metadata": {},
   "outputs": [
    {
     "data": {
      "text/html": [
       "<div>\n",
       "<style scoped>\n",
       "    .dataframe tbody tr th:only-of-type {\n",
       "        vertical-align: middle;\n",
       "    }\n",
       "\n",
       "    .dataframe tbody tr th {\n",
       "        vertical-align: top;\n",
       "    }\n",
       "\n",
       "    .dataframe thead th {\n",
       "        text-align: right;\n",
       "    }\n",
       "</style>\n",
       "<table border=\"1\" class=\"dataframe\">\n",
       "  <thead>\n",
       "    <tr style=\"text-align: right;\">\n",
       "      <th></th>\n",
       "      <th>customerID</th>\n",
       "      <th>gender</th>\n",
       "      <th>SeniorCitizen</th>\n",
       "      <th>Partner</th>\n",
       "      <th>Dependents</th>\n",
       "      <th>tenure</th>\n",
       "      <th>PhoneService</th>\n",
       "      <th>MultipleLines</th>\n",
       "      <th>InternetService</th>\n",
       "      <th>OnlineSecurity</th>\n",
       "      <th>...</th>\n",
       "      <th>DeviceProtection</th>\n",
       "      <th>TechSupport</th>\n",
       "      <th>StreamingTV</th>\n",
       "      <th>StreamingMovies</th>\n",
       "      <th>Contract</th>\n",
       "      <th>PaperlessBilling</th>\n",
       "      <th>PaymentMethod</th>\n",
       "      <th>MonthlyCharges</th>\n",
       "      <th>TotalCharges</th>\n",
       "      <th>Churn</th>\n",
       "    </tr>\n",
       "  </thead>\n",
       "  <tbody>\n",
       "    <tr>\n",
       "      <th>488</th>\n",
       "      <td>4472-LVYGI</td>\n",
       "      <td>Female</td>\n",
       "      <td>0</td>\n",
       "      <td>Yes</td>\n",
       "      <td>Yes</td>\n",
       "      <td>0</td>\n",
       "      <td>No</td>\n",
       "      <td>No phone service</td>\n",
       "      <td>DSL</td>\n",
       "      <td>Yes</td>\n",
       "      <td>...</td>\n",
       "      <td>Yes</td>\n",
       "      <td>Yes</td>\n",
       "      <td>Yes</td>\n",
       "      <td>No</td>\n",
       "      <td>Two year</td>\n",
       "      <td>Yes</td>\n",
       "      <td>Bank transfer (automatic)</td>\n",
       "      <td>52.55</td>\n",
       "      <td>52.55</td>\n",
       "      <td>No</td>\n",
       "    </tr>\n",
       "    <tr>\n",
       "      <th>753</th>\n",
       "      <td>3115-CZMZD</td>\n",
       "      <td>Male</td>\n",
       "      <td>0</td>\n",
       "      <td>No</td>\n",
       "      <td>Yes</td>\n",
       "      <td>0</td>\n",
       "      <td>Yes</td>\n",
       "      <td>No</td>\n",
       "      <td>No</td>\n",
       "      <td>No internet service</td>\n",
       "      <td>...</td>\n",
       "      <td>No internet service</td>\n",
       "      <td>No internet service</td>\n",
       "      <td>No internet service</td>\n",
       "      <td>No internet service</td>\n",
       "      <td>Two year</td>\n",
       "      <td>No</td>\n",
       "      <td>Mailed check</td>\n",
       "      <td>20.25</td>\n",
       "      <td>20.25</td>\n",
       "      <td>No</td>\n",
       "    </tr>\n",
       "    <tr>\n",
       "      <th>936</th>\n",
       "      <td>5709-LVOEQ</td>\n",
       "      <td>Female</td>\n",
       "      <td>0</td>\n",
       "      <td>Yes</td>\n",
       "      <td>Yes</td>\n",
       "      <td>0</td>\n",
       "      <td>Yes</td>\n",
       "      <td>No</td>\n",
       "      <td>DSL</td>\n",
       "      <td>Yes</td>\n",
       "      <td>...</td>\n",
       "      <td>Yes</td>\n",
       "      <td>No</td>\n",
       "      <td>Yes</td>\n",
       "      <td>Yes</td>\n",
       "      <td>Two year</td>\n",
       "      <td>No</td>\n",
       "      <td>Mailed check</td>\n",
       "      <td>80.85</td>\n",
       "      <td>80.85</td>\n",
       "      <td>No</td>\n",
       "    </tr>\n",
       "  </tbody>\n",
       "</table>\n",
       "<p>3 rows × 21 columns</p>\n",
       "</div>"
      ],
      "text/plain": [
       "     customerID  gender  SeniorCitizen Partner Dependents  tenure  \\\n",
       "488  4472-LVYGI  Female              0     Yes        Yes       0   \n",
       "753  3115-CZMZD    Male              0      No        Yes       0   \n",
       "936  5709-LVOEQ  Female              0     Yes        Yes       0   \n",
       "\n",
       "    PhoneService     MultipleLines InternetService       OnlineSecurity  ...  \\\n",
       "488           No  No phone service             DSL                  Yes  ...   \n",
       "753          Yes                No              No  No internet service  ...   \n",
       "936          Yes                No             DSL                  Yes  ...   \n",
       "\n",
       "        DeviceProtection          TechSupport          StreamingTV  \\\n",
       "488                  Yes                  Yes                  Yes   \n",
       "753  No internet service  No internet service  No internet service   \n",
       "936                  Yes                   No                  Yes   \n",
       "\n",
       "         StreamingMovies  Contract PaperlessBilling  \\\n",
       "488                   No  Two year              Yes   \n",
       "753  No internet service  Two year               No   \n",
       "936                  Yes  Two year               No   \n",
       "\n",
       "                 PaymentMethod MonthlyCharges  TotalCharges  Churn  \n",
       "488  Bank transfer (automatic)          52.55         52.55     No  \n",
       "753               Mailed check          20.25         20.25     No  \n",
       "936               Mailed check          80.85         80.85     No  \n",
       "\n",
       "[3 rows x 21 columns]"
      ]
     },
     "execution_count": 13,
     "metadata": {},
     "output_type": "execute_result"
    },
    {
     "data": {
      "application/javascript": [
       "\n",
       "            setTimeout(function() {\n",
       "                var nbb_cell_id = 13;\n",
       "                var nbb_unformatted_code = \"df[\\\"TotalCharges\\\"].fillna(df[\\\"MonthlyCharges\\\"], inplace=True)\\ndf.loc[null_idx.index].head(3)\";\n",
       "                var nbb_formatted_code = \"df[\\\"TotalCharges\\\"].fillna(df[\\\"MonthlyCharges\\\"], inplace=True)\\ndf.loc[null_idx.index].head(3)\";\n",
       "                var nbb_cells = Jupyter.notebook.get_cells();\n",
       "                for (var i = 0; i < nbb_cells.length; ++i) {\n",
       "                    if (nbb_cells[i].input_prompt_number == nbb_cell_id) {\n",
       "                        if (nbb_cells[i].get_text() == nbb_unformatted_code) {\n",
       "                             nbb_cells[i].set_text(nbb_formatted_code);\n",
       "                        }\n",
       "                        break;\n",
       "                    }\n",
       "                }\n",
       "            }, 500);\n",
       "            "
      ],
      "text/plain": [
       "<IPython.core.display.Javascript object>"
      ]
     },
     "metadata": {},
     "output_type": "display_data"
    }
   ],
   "source": [
    "df[\"TotalCharges\"].fillna(df[\"MonthlyCharges\"], inplace=True)\n",
    "df.loc[null_idx.index].head(3)"
   ]
  },
  {
   "cell_type": "markdown",
   "id": "5aaf0e9e",
   "metadata": {},
   "source": [
    "| Description|\n",
    "|:-----------|\n",
    "|The above code results in the column \"TotalCharges\" being filled with the value from the \"MonthlyCharges\" column for all rows that contained null values in the \"TotalCharges\" column.\n",
    "This is done because the MonthlyCharges column contains the total amount of charges for a period of time, and so it is assumed that this same amount is being applied to the TotalCharges column for any rows that are missing a value.\n",
    "The above code results show the first three rows of the dataframe with null values for the specified column, As expected all null values are replaced with new values\"related Monthly Charges\".\n",
    "\n",
    "---"
   ]
  },
  {
   "cell_type": "code",
   "execution_count": 14,
   "id": "98abbac3",
   "metadata": {},
   "outputs": [
    {
     "data": {
      "text/html": [
       "<div>\n",
       "<style scoped>\n",
       "    .dataframe tbody tr th:only-of-type {\n",
       "        vertical-align: middle;\n",
       "    }\n",
       "\n",
       "    .dataframe tbody tr th {\n",
       "        vertical-align: top;\n",
       "    }\n",
       "\n",
       "    .dataframe thead th {\n",
       "        text-align: right;\n",
       "    }\n",
       "</style>\n",
       "<table border=\"1\" class=\"dataframe\">\n",
       "  <thead>\n",
       "    <tr style=\"text-align: right;\">\n",
       "      <th></th>\n",
       "      <th>Null Values (Count)</th>\n",
       "      <th>Percentage (%)</th>\n",
       "    </tr>\n",
       "  </thead>\n",
       "  <tbody>\n",
       "    <tr>\n",
       "      <th>customerID</th>\n",
       "      <td>0</td>\n",
       "      <td>0.0</td>\n",
       "    </tr>\n",
       "    <tr>\n",
       "      <th>DeviceProtection</th>\n",
       "      <td>0</td>\n",
       "      <td>0.0</td>\n",
       "    </tr>\n",
       "    <tr>\n",
       "      <th>TotalCharges</th>\n",
       "      <td>0</td>\n",
       "      <td>0.0</td>\n",
       "    </tr>\n",
       "    <tr>\n",
       "      <th>MonthlyCharges</th>\n",
       "      <td>0</td>\n",
       "      <td>0.0</td>\n",
       "    </tr>\n",
       "    <tr>\n",
       "      <th>PaymentMethod</th>\n",
       "      <td>0</td>\n",
       "      <td>0.0</td>\n",
       "    </tr>\n",
       "  </tbody>\n",
       "</table>\n",
       "</div>"
      ],
      "text/plain": [
       "                  Null Values (Count)  Percentage (%)\n",
       "customerID                          0             0.0\n",
       "DeviceProtection                    0             0.0\n",
       "TotalCharges                        0             0.0\n",
       "MonthlyCharges                      0             0.0\n",
       "PaymentMethod                       0             0.0"
      ]
     },
     "execution_count": 14,
     "metadata": {},
     "output_type": "execute_result"
    },
    {
     "data": {
      "application/javascript": [
       "\n",
       "            setTimeout(function() {\n",
       "                var nbb_cell_id = 14;\n",
       "                var nbb_unformatted_code = \"missing_val = df.isnull().sum().sort_values(ascending=False).head(5)\\nmissing_per = round(missing_val / len(df) * 100, 2)\\npd.DataFrame({\\\"Null Values (Count)\\\": missing_val, \\\"Percentage (%)\\\": missing_per.values})\";\n",
       "                var nbb_formatted_code = \"missing_val = df.isnull().sum().sort_values(ascending=False).head(5)\\nmissing_per = round(missing_val / len(df) * 100, 2)\\npd.DataFrame({\\\"Null Values (Count)\\\": missing_val, \\\"Percentage (%)\\\": missing_per.values})\";\n",
       "                var nbb_cells = Jupyter.notebook.get_cells();\n",
       "                for (var i = 0; i < nbb_cells.length; ++i) {\n",
       "                    if (nbb_cells[i].input_prompt_number == nbb_cell_id) {\n",
       "                        if (nbb_cells[i].get_text() == nbb_unformatted_code) {\n",
       "                             nbb_cells[i].set_text(nbb_formatted_code);\n",
       "                        }\n",
       "                        break;\n",
       "                    }\n",
       "                }\n",
       "            }, 500);\n",
       "            "
      ],
      "text/plain": [
       "<IPython.core.display.Javascript object>"
      ]
     },
     "metadata": {},
     "output_type": "display_data"
    }
   ],
   "source": [
    "missing_val = df.isnull().sum().sort_values(ascending=False).head(5)\n",
    "missing_per = round(missing_val / len(df) * 100, 2)\n",
    "pd.DataFrame({\"Null Values (Count)\": missing_val, \"Percentage (%)\": missing_per.values})"
   ]
  },
  {
   "cell_type": "markdown",
   "id": "c53ce97e",
   "metadata": {},
   "source": [
    "|Description|\n",
    "|:----------|\n",
    "|This block of code is used to find the top 5 missing values in the data frame and the percentage of missing values for each column. The df.isnull().sum() method is used to calculate the number of missing values in each column and the values are sorted in descending order. Then, the head() method is used to get the top 5 columns with the highest number of missing values. Finally, the values are converted to percentages and displayed in a data frame.\n",
    "The results of the above code indicate that there are no missing or null values in the dataset. This means that all the values in the dataset are complete and valid, which is essential for reliable data analysis."
   ]
  },
  {
   "cell_type": "markdown",
   "id": "e91a3c18",
   "metadata": {},
   "source": [
    "**A1.4 Unique values(Data Consistency)**"
   ]
  },
  {
   "cell_type": "code",
   "execution_count": 15,
   "id": "902cf6c0",
   "metadata": {},
   "outputs": [
    {
     "data": {
      "text/html": [
       "<style type=\"text/css\">\n",
       "#T_de217 the {\n",
       "  text-align: center;\n",
       "}\n",
       "#T_de217_row0_col0, #T_de217_row0_col1, #T_de217_row0_col2, #T_de217_row1_col0, #T_de217_row1_col1, #T_de217_row1_col2, #T_de217_row2_col0, #T_de217_row2_col1, #T_de217_row2_col2, #T_de217_row3_col0, #T_de217_row3_col1, #T_de217_row3_col2, #T_de217_row4_col0, #T_de217_row4_col1, #T_de217_row4_col2, #T_de217_row5_col0, #T_de217_row5_col1, #T_de217_row5_col2, #T_de217_row6_col0, #T_de217_row6_col1, #T_de217_row6_col2, #T_de217_row7_col0, #T_de217_row7_col1, #T_de217_row7_col2, #T_de217_row8_col0, #T_de217_row8_col1, #T_de217_row8_col2, #T_de217_row9_col0, #T_de217_row9_col1, #T_de217_row9_col2, #T_de217_row10_col0, #T_de217_row10_col1, #T_de217_row10_col2, #T_de217_row11_col0, #T_de217_row11_col1, #T_de217_row11_col2, #T_de217_row12_col0, #T_de217_row12_col1, #T_de217_row12_col2, #T_de217_row13_col0, #T_de217_row13_col1, #T_de217_row13_col2, #T_de217_row14_col0, #T_de217_row14_col1, #T_de217_row14_col2, #T_de217_row15_col0, #T_de217_row15_col1, #T_de217_row15_col2 {\n",
       "  text-align: left;\n",
       "}\n",
       "</style>\n",
       "<table id=\"T_de217\">\n",
       "  <thead>\n",
       "    <tr>\n",
       "      <th class=\"blank level0\" >&nbsp;</th>\n",
       "      <th id=\"T_de217_level0_col0\" class=\"col_heading level0 col0\" >Column</th>\n",
       "      <th id=\"T_de217_level0_col1\" class=\"col_heading level0 col1\" >Unique Values</th>\n",
       "      <th id=\"T_de217_level0_col2\" class=\"col_heading level0 col2\" >Count of Unique Values</th>\n",
       "    </tr>\n",
       "  </thead>\n",
       "  <tbody>\n",
       "    <tr>\n",
       "      <th id=\"T_de217_level0_row0\" class=\"row_heading level0 row0\" >0</th>\n",
       "      <td id=\"T_de217_row0_col0\" class=\"data row0 col0\" >gender         </td>\n",
       "      <td id=\"T_de217_row0_col1\" class=\"data row0 col1\" >['Female' 'Male']             </td>\n",
       "      <td id=\"T_de217_row0_col2\" class=\"data row0 col2\" >2                   </td>\n",
       "    </tr>\n",
       "    <tr>\n",
       "      <th id=\"T_de217_level0_row1\" class=\"row_heading level0 row1\" >1</th>\n",
       "      <td id=\"T_de217_row1_col0\" class=\"data row1 col0\" >Partner        </td>\n",
       "      <td id=\"T_de217_row1_col1\" class=\"data row1 col1\" >['Yes' 'No']                  </td>\n",
       "      <td id=\"T_de217_row1_col2\" class=\"data row1 col2\" >2                   </td>\n",
       "    </tr>\n",
       "    <tr>\n",
       "      <th id=\"T_de217_level0_row2\" class=\"row_heading level0 row2\" >2</th>\n",
       "      <td id=\"T_de217_row2_col0\" class=\"data row2 col0\" >Dependents     </td>\n",
       "      <td id=\"T_de217_row2_col1\" class=\"data row2 col1\" >['No' 'Yes']                  </td>\n",
       "      <td id=\"T_de217_row2_col2\" class=\"data row2 col2\" >2                   </td>\n",
       "    </tr>\n",
       "    <tr>\n",
       "      <th id=\"T_de217_level0_row3\" class=\"row_heading level0 row3\" >3</th>\n",
       "      <td id=\"T_de217_row3_col0\" class=\"data row3 col0\" >PhoneService   </td>\n",
       "      <td id=\"T_de217_row3_col1\" class=\"data row3 col1\" >['No' 'Yes']                  </td>\n",
       "      <td id=\"T_de217_row3_col2\" class=\"data row3 col2\" >2                   </td>\n",
       "    </tr>\n",
       "    <tr>\n",
       "      <th id=\"T_de217_level0_row4\" class=\"row_heading level0 row4\" >4</th>\n",
       "      <td id=\"T_de217_row4_col0\" class=\"data row4 col0\" >MultipleLines  </td>\n",
       "      <td id=\"T_de217_row4_col1\" class=\"data row4 col1\" >['No phone service' 'No' 'Yes']</td>\n",
       "      <td id=\"T_de217_row4_col2\" class=\"data row4 col2\" >3                   </td>\n",
       "    </tr>\n",
       "    <tr>\n",
       "      <th id=\"T_de217_level0_row5\" class=\"row_heading level0 row5\" >5</th>\n",
       "      <td id=\"T_de217_row5_col0\" class=\"data row5 col0\" >InternetService</td>\n",
       "      <td id=\"T_de217_row5_col1\" class=\"data row5 col1\" >['DSL' 'Fiber optic' 'No']    </td>\n",
       "      <td id=\"T_de217_row5_col2\" class=\"data row5 col2\" >3                   </td>\n",
       "    </tr>\n",
       "    <tr>\n",
       "      <th id=\"T_de217_level0_row6\" class=\"row_heading level0 row6\" >6</th>\n",
       "      <td id=\"T_de217_row6_col0\" class=\"data row6 col0\" >OnlineSecurity </td>\n",
       "      <td id=\"T_de217_row6_col1\" class=\"data row6 col1\" >['No' 'Yes' 'No internet service']</td>\n",
       "      <td id=\"T_de217_row6_col2\" class=\"data row6 col2\" >3                   </td>\n",
       "    </tr>\n",
       "    <tr>\n",
       "      <th id=\"T_de217_level0_row7\" class=\"row_heading level0 row7\" >7</th>\n",
       "      <td id=\"T_de217_row7_col0\" class=\"data row7 col0\" >OnlineBackup   </td>\n",
       "      <td id=\"T_de217_row7_col1\" class=\"data row7 col1\" >['Yes' 'No' 'No internet service']</td>\n",
       "      <td id=\"T_de217_row7_col2\" class=\"data row7 col2\" >3                   </td>\n",
       "    </tr>\n",
       "    <tr>\n",
       "      <th id=\"T_de217_level0_row8\" class=\"row_heading level0 row8\" >8</th>\n",
       "      <td id=\"T_de217_row8_col0\" class=\"data row8 col0\" >DeviceProtection</td>\n",
       "      <td id=\"T_de217_row8_col1\" class=\"data row8 col1\" >['No' 'Yes' 'No internet service']</td>\n",
       "      <td id=\"T_de217_row8_col2\" class=\"data row8 col2\" >3                   </td>\n",
       "    </tr>\n",
       "    <tr>\n",
       "      <th id=\"T_de217_level0_row9\" class=\"row_heading level0 row9\" >9</th>\n",
       "      <td id=\"T_de217_row9_col0\" class=\"data row9 col0\" >TechSupport    </td>\n",
       "      <td id=\"T_de217_row9_col1\" class=\"data row9 col1\" >['No' 'Yes' 'No internet service']</td>\n",
       "      <td id=\"T_de217_row9_col2\" class=\"data row9 col2\" >3                   </td>\n",
       "    </tr>\n",
       "    <tr>\n",
       "      <th id=\"T_de217_level0_row10\" class=\"row_heading level0 row10\" >10</th>\n",
       "      <td id=\"T_de217_row10_col0\" class=\"data row10 col0\" >StreamingTV    </td>\n",
       "      <td id=\"T_de217_row10_col1\" class=\"data row10 col1\" >['No' 'Yes' 'No internet service']</td>\n",
       "      <td id=\"T_de217_row10_col2\" class=\"data row10 col2\" >3                   </td>\n",
       "    </tr>\n",
       "    <tr>\n",
       "      <th id=\"T_de217_level0_row11\" class=\"row_heading level0 row11\" >11</th>\n",
       "      <td id=\"T_de217_row11_col0\" class=\"data row11 col0\" >StreamingMovies</td>\n",
       "      <td id=\"T_de217_row11_col1\" class=\"data row11 col1\" >['No' 'Yes' 'No internet service']</td>\n",
       "      <td id=\"T_de217_row11_col2\" class=\"data row11 col2\" >3                   </td>\n",
       "    </tr>\n",
       "    <tr>\n",
       "      <th id=\"T_de217_level0_row12\" class=\"row_heading level0 row12\" >12</th>\n",
       "      <td id=\"T_de217_row12_col0\" class=\"data row12 col0\" >Contract       </td>\n",
       "      <td id=\"T_de217_row12_col1\" class=\"data row12 col1\" >['Month-to-month' 'One year' 'Two year']</td>\n",
       "      <td id=\"T_de217_row12_col2\" class=\"data row12 col2\" >3                   </td>\n",
       "    </tr>\n",
       "    <tr>\n",
       "      <th id=\"T_de217_level0_row13\" class=\"row_heading level0 row13\" >13</th>\n",
       "      <td id=\"T_de217_row13_col0\" class=\"data row13 col0\" >PaperlessBilling</td>\n",
       "      <td id=\"T_de217_row13_col1\" class=\"data row13 col1\" >['Yes' 'No']                  </td>\n",
       "      <td id=\"T_de217_row13_col2\" class=\"data row13 col2\" >2                   </td>\n",
       "    </tr>\n",
       "    <tr>\n",
       "      <th id=\"T_de217_level0_row14\" class=\"row_heading level0 row14\" >14</th>\n",
       "      <td id=\"T_de217_row14_col0\" class=\"data row14 col0\" >PaymentMethod  </td>\n",
       "      <td id=\"T_de217_row14_col1\" class=\"data row14 col1\" >['Electronic check' 'Mailed check' 'Bank transfer (automatic)'\n",
       " 'Credit card (automatic)']</td>\n",
       "      <td id=\"T_de217_row14_col2\" class=\"data row14 col2\" >4                   </td>\n",
       "    </tr>\n",
       "    <tr>\n",
       "      <th id=\"T_de217_level0_row15\" class=\"row_heading level0 row15\" >15</th>\n",
       "      <td id=\"T_de217_row15_col0\" class=\"data row15 col0\" >Churn          </td>\n",
       "      <td id=\"T_de217_row15_col1\" class=\"data row15 col1\" >['No' 'Yes']                  </td>\n",
       "      <td id=\"T_de217_row15_col2\" class=\"data row15 col2\" >2                   </td>\n",
       "    </tr>\n",
       "  </tbody>\n",
       "</table>\n"
      ],
      "text/plain": [
       "<pandas.io.formats.style.Styler at 0x1e7677e3370>"
      ]
     },
     "execution_count": 15,
     "metadata": {},
     "output_type": "execute_result"
    },
    {
     "data": {
      "application/javascript": [
       "\n",
       "            setTimeout(function() {\n",
       "                var nbb_cell_id = 15;\n",
       "                var nbb_unformatted_code = \"data = []\\n\\nfor i in df.select_dtypes(include=\\\"object\\\"):\\n    if i != \\\"customerID\\\":\\n        data.append(\\n            [i.ljust(15), str(df[i].unique()).ljust(30), str(df[i].nunique()).ljust(20)]\\n        )\\n\\ntable = pd.DataFrame(\\n    data, columns=[\\\"Column\\\", \\\"Unique Values\\\", \\\"Count of Unique Values\\\"]\\n)\\n\\ntable\\ntable.style.set_properties(**{\\\"text-align\\\": \\\"left\\\"}).set_table_styles(\\n    [{\\\"selector\\\": \\\"the\\\", \\\"props\\\": [(\\\"text-align\\\", \\\"center\\\")]}]\\n)\";\n",
       "                var nbb_formatted_code = \"data = []\\n\\nfor i in df.select_dtypes(include=\\\"object\\\"):\\n    if i != \\\"customerID\\\":\\n        data.append(\\n            [i.ljust(15), str(df[i].unique()).ljust(30), str(df[i].nunique()).ljust(20)]\\n        )\\n\\ntable = pd.DataFrame(\\n    data, columns=[\\\"Column\\\", \\\"Unique Values\\\", \\\"Count of Unique Values\\\"]\\n)\\n\\ntable\\ntable.style.set_properties(**{\\\"text-align\\\": \\\"left\\\"}).set_table_styles(\\n    [{\\\"selector\\\": \\\"the\\\", \\\"props\\\": [(\\\"text-align\\\", \\\"center\\\")]}]\\n)\";\n",
       "                var nbb_cells = Jupyter.notebook.get_cells();\n",
       "                for (var i = 0; i < nbb_cells.length; ++i) {\n",
       "                    if (nbb_cells[i].input_prompt_number == nbb_cell_id) {\n",
       "                        if (nbb_cells[i].get_text() == nbb_unformatted_code) {\n",
       "                             nbb_cells[i].set_text(nbb_formatted_code);\n",
       "                        }\n",
       "                        break;\n",
       "                    }\n",
       "                }\n",
       "            }, 500);\n",
       "            "
      ],
      "text/plain": [
       "<IPython.core.display.Javascript object>"
      ]
     },
     "metadata": {},
     "output_type": "display_data"
    }
   ],
   "source": [
    "data = []\n",
    "\n",
    "for i in df.select_dtypes(include=\"object\"):\n",
    "    if i != \"customerID\":\n",
    "        data.append(\n",
    "            [i.ljust(15), str(df[i].unique()).ljust(30), str(df[i].nunique()).ljust(20)]\n",
    "        )\n",
    "\n",
    "table = pd.DataFrame(\n",
    "    data, columns=[\"Column\", \"Unique Values\", \"Count of Unique Values\"]\n",
    ")\n",
    "\n",
    "table\n",
    "table.style.set_properties(**{\"text-align\": \"left\"}).set_table_styles(\n",
    "    [{\"selector\": \"the\", \"props\": [(\"text-align\", \"center\")]}]\n",
    ")"
   ]
  },
  {
   "cell_type": "markdown",
   "id": "bf61956f",
   "metadata": {},
   "source": [
    "| Description|\n",
    "|:-----------|\n",
    "|The above code is used to generate a table that displays the unique values and counts of unique values for all the columns of type 'object' in a given dataframe. The output of this code is a table that contains three columns, Column, Unique Values and Count of Unique Values. The Column column contains the names of the columns of type 'object' from the given dataframe, the Unique Values column contains a list of all the unique values for each column and the Count of Unique Values column contains the number of unique values for each column.|\n",
    "\n",
    "---"
   ]
  },
  {
   "cell_type": "markdown",
   "id": "4c2b4257",
   "metadata": {},
   "source": [
    "| Q1 - Summary|\n",
    "|:-----------|\n",
    "|In conclusion, there were no duplicate or missing values, and no incorrect entries in other fields. However, there were 11 wrong values in the 'TotalCharges' field, which were replaced with the equivalent value from the 'MonthlyCharges' field. Our assumption is that the 'Total Charges' for each customer should be greater than or equal to their 'Monthly Charges'."
   ]
  },
  {
   "cell_type": "markdown",
   "id": "a5ee668a",
   "metadata": {},
   "source": [
    "# <p style=\"background-color:#1434A4; font-family:calibri; font-size:70%; text-color:white; text-align:left;color:white\" id=\"q2\">Q2.We need an interactional GUI to capture customer ID from a user and present retrieved information in a readable format.<a name=\"q2\"></a></p>"
   ]
  },
  {
   "cell_type": "code",
   "execution_count": 33,
   "id": "d69fa0b3",
   "metadata": {},
   "outputs": [
    {
     "name": "stdout",
     "output_type": "stream",
     "text": [
      "\u001b[1mNote: Customer ID format is XXXX-YYYYY X: Digit, Y: Capital Alphabet Charachter A~Z, Example:4472-LVYGI\u001b[0m\n",
      "Please enter Customer ID (with format of 4472-LVYGI) or type 'quit' to exit: 111\n",
      "Invalid customer ID\n",
      "Please enter customer ID (with format 4472-LVYGI) or type 'quit' to exit: 1111-YYYYY\n",
      "Record not available in dataset\n",
      "Please enter customer ID (with format 4472-LVYGI) or type 'quit' to exit: 4472-LVYGI\n",
      "Customer information:\n",
      "\n",
      "                                        488\n",
      "customerID                       4472-LVYGI\n",
      "gender                               Female\n",
      "SeniorCitizen                             0\n",
      "Partner                                 Yes\n",
      "Dependents                              Yes\n",
      "tenure                                    0\n",
      "PhoneService                             No\n",
      "MultipleLines              No phone service\n",
      "InternetService                         DSL\n",
      "OnlineSecurity                          Yes\n",
      "OnlineBackup                             No\n",
      "DeviceProtection                        Yes\n",
      "TechSupport                             Yes\n",
      "StreamingTV                             Yes\n",
      "StreamingMovies                          No\n",
      "Contract                           Two year\n",
      "PaperlessBilling                        Yes\n",
      "PaymentMethod     Bank transfer (automatic)\n",
      "MonthlyCharges                        52.55\n",
      "TotalCharges                          52.55\n",
      "Churn                                    No\n",
      "Please enter customer ID (with format 4472-LVYGI) or type 'quit' to exit: quit\n"
     ]
    },
    {
     "data": {
      "application/javascript": [
       "\n",
       "            setTimeout(function() {\n",
       "                var nbb_cell_id = 33;\n",
       "                var nbb_unformatted_code = \"print(\\n    \\\"\\\\033[1mNote: Customer ID format is XXXX-YYYYY X: Digit, Y: Capital Alphabet Charachter A~Z, Example:4472-LVYGI\\\\033[0m\\\"\\n)\\ncustomer_id = input(\\n    \\\"Please enter Customer ID (with format of 4472-LVYGI) or type 'quit' to exit: \\\"\\n)\\n\\ncustomer_id = str(customer_id)\\nwhile customer_id != \\\"quit\\\":\\n    try:\\n        if len(customer_id) == 10 and customer_id[4] == \\\"-\\\":\\n            if customer_id in df[\\\"customerID\\\"].values:\\n                customer_info = df[df[\\\"customerID\\\"] == customer_id]\\n                print(\\\"Customer information:\\\\n\\\")\\n                print(customer_info.head(1).T)\\n\\n            else:\\n                print(\\\"Record not available in dataset\\\")\\n        else:\\n            print(\\\"Invalid customer ID\\\")\\n    except:\\n        print(\\\"Invalid customer ID\\\")\\n    customer_id = input(\\n        \\\"Please enter customer ID (with format 4472-LVYGI) or type 'quit' to exit: \\\"\\n    )\";\n",
       "                var nbb_formatted_code = \"print(\\n    \\\"\\\\033[1mNote: Customer ID format is XXXX-YYYYY X: Digit, Y: Capital Alphabet Charachter A~Z, Example:4472-LVYGI\\\\033[0m\\\"\\n)\\ncustomer_id = input(\\n    \\\"Please enter Customer ID (with format of 4472-LVYGI) or type 'quit' to exit: \\\"\\n)\\n\\ncustomer_id = str(customer_id)\\nwhile customer_id != \\\"quit\\\":\\n    try:\\n        if len(customer_id) == 10 and customer_id[4] == \\\"-\\\":\\n            if customer_id in df[\\\"customerID\\\"].values:\\n                customer_info = df[df[\\\"customerID\\\"] == customer_id]\\n                print(\\\"Customer information:\\\\n\\\")\\n                print(customer_info.head(1).T)\\n\\n            else:\\n                print(\\\"Record not available in dataset\\\")\\n        else:\\n            print(\\\"Invalid customer ID\\\")\\n    except:\\n        print(\\\"Invalid customer ID\\\")\\n    customer_id = input(\\n        \\\"Please enter customer ID (with format 4472-LVYGI) or type 'quit' to exit: \\\"\\n    )\";\n",
       "                var nbb_cells = Jupyter.notebook.get_cells();\n",
       "                for (var i = 0; i < nbb_cells.length; ++i) {\n",
       "                    if (nbb_cells[i].input_prompt_number == nbb_cell_id) {\n",
       "                        if (nbb_cells[i].get_text() == nbb_unformatted_code) {\n",
       "                             nbb_cells[i].set_text(nbb_formatted_code);\n",
       "                        }\n",
       "                        break;\n",
       "                    }\n",
       "                }\n",
       "            }, 500);\n",
       "            "
      ],
      "text/plain": [
       "<IPython.core.display.Javascript object>"
      ]
     },
     "metadata": {},
     "output_type": "display_data"
    }
   ],
   "source": [
    "print(\n",
    "    \"\\033[1mNote: Customer ID format is XXXX-YYYYY X: Digit, Y: Capital Alphabet Charachter A~Z, Example:4472-LVYGI\\033[0m\"\n",
    ")\n",
    "customer_id = input(\n",
    "    \"Please enter Customer ID (with format of 4472-LVYGI) or type 'quit' to exit: \"\n",
    ")\n",
    "\n",
    "customer_id = str(customer_id)\n",
    "while customer_id != \"quit\":\n",
    "    try:\n",
    "        if len(customer_id) == 10 and customer_id[4] == \"-\":\n",
    "            if customer_id in df[\"customerID\"].values:\n",
    "                customer_info = df[df[\"customerID\"] == customer_id]\n",
    "                print(\"Customer information:\\n\")\n",
    "                print(customer_info.head(1).T)\n",
    "\n",
    "            else:\n",
    "                print(\"Record not available in dataset\")\n",
    "        else:\n",
    "            print(\"Invalid customer ID\")\n",
    "    except:\n",
    "        print(\"Invalid customer ID\")\n",
    "    customer_id = input(\n",
    "        \"Please enter customer ID (with format 4472-LVYGI) or type 'quit' to exit: \"\n",
    "    )"
   ]
  },
  {
   "cell_type": "markdown",
   "id": "d46a9b05",
   "metadata": {},
   "source": [
    "| Description|\n",
    "|:-----------|\n",
    "|Using the try and exception method is a way to check if a customer ID is valid and if it is present in the dataset. The above code first asks the customer to enter the customer ID in the format XXXX-YYYYY, where X is a digit and Y is a capital alphabet character A-Z. If the customer enters \"quit\", the code will exit. \n",
    "If the customer enters a customer ID, the code will check the length of the customer ID and the hyphen in the customer ID using the if statement. If the customer ID is valid, the code will then check if the customer ID is present in the dataset using the if statement. If the customer ID is present in the dataset, the customer information will be displayed using the print statement. If the customer ID is invalid or not present in the dataset, an error message will be displayed. To make it more readable we trasnpose the output to have better view.\n",
    "If an error occurs, the code will catch the error using the exception. The code will then display an error message.\n"
   ]
  },
  {
   "cell_type": "markdown",
   "id": "287e5129",
   "metadata": {},
   "source": [
    "# <p style=\"background-color:#1434A4; font-family:calibri; font-size:70%; text-color:white; text-align:left;color:white\" id=\"q3\">Q3. How many male and female customers with seniority status does this company have?<a name=\"q3\"></a></p>\n"
   ]
  },
  {
   "cell_type": "code",
   "execution_count": 27,
   "id": "630d0fcf",
   "metadata": {},
   "outputs": [
    {
     "data": {
      "image/png": "[encoded data removed]",
      "text/plain": [
       "<Figure size 600x400 with 1 Axes>"
      ]
     },
     "metadata": {},
     "output_type": "display_data"
    },
    {
     "data": {
      "text/html": [
       "<div>\n",
       "<style scoped>\n",
       "    .dataframe tbody tr th:only-of-type {\n",
       "        vertical-align: middle;\n",
       "    }\n",
       "\n",
       "    .dataframe tbody tr th {\n",
       "        vertical-align: top;\n",
       "    }\n",
       "\n",
       "    .dataframe thead th {\n",
       "        text-align: right;\n",
       "    }\n",
       "</style>\n",
       "<table border=\"1\" class=\"dataframe\">\n",
       "  <thead>\n",
       "    <tr style=\"text-align: right;\">\n",
       "      <th></th>\n",
       "      <th></th>\n",
       "      <th>customerID</th>\n",
       "    </tr>\n",
       "    <tr>\n",
       "      <th>gender</th>\n",
       "      <th>SeniorCitizen</th>\n",
       "      <th></th>\n",
       "    </tr>\n",
       "  </thead>\n",
       "  <tbody>\n",
       "    <tr>\n",
       "      <th rowspan=\"2\" valign=\"top\">Female</th>\n",
       "      <th>0</th>\n",
       "      <td>2920</td>\n",
       "    </tr>\n",
       "    <tr>\n",
       "      <th>1</th>\n",
       "      <td>568</td>\n",
       "    </tr>\n",
       "    <tr>\n",
       "      <th rowspan=\"2\" valign=\"top\">Male</th>\n",
       "      <th>0</th>\n",
       "      <td>2981</td>\n",
       "    </tr>\n",
       "    <tr>\n",
       "      <th>1</th>\n",
       "      <td>574</td>\n",
       "    </tr>\n",
       "  </tbody>\n",
       "</table>\n",
       "</div>"
      ],
      "text/plain": [
       "                      customerID\n",
       "gender SeniorCitizen            \n",
       "Female 0                    2920\n",
       "       1                     568\n",
       "Male   0                    2981\n",
       "       1                     574"
      ]
     },
     "execution_count": 27,
     "metadata": {},
     "output_type": "execute_result"
    },
    {
     "data": {
      "application/javascript": [
       "\n",
       "            setTimeout(function() {\n",
       "                var nbb_cell_id = 27;\n",
       "                var nbb_unformatted_code = \"fig, ax = plt.subplots(figsize=(6, 4))\\n\\ncounts = df.groupby([\\\"gender\\\", \\\"SeniorCitizen\\\"]).size().reset_index(name=\\\"counts\\\")\\n\\ncounts[\\\"SeniorCitizen\\\"] = counts[\\\"SeniorCitizen\\\"].replace({1: \\\"Yes\\\", 0: \\\"No\\\"})\\n\\nax = counts.pivot(index=\\\"SeniorCitizen\\\", columns=\\\"gender\\\", values=\\\"counts\\\").plot(\\n    kind=\\\"bar\\\", ax=ax, color=[\\\"pink\\\", \\\"#0047AB\\\"]\\n)\\n\\nfor p in ax.patches:\\n    ax.annotate(\\n        str(p.get_height()),\\n        (p.get_x() + p.get_width() / 2, p.get_height() * 1.005),\\n        ha=\\\"center\\\",\\n    )\\nax.set_xlabel(\\\"Seniority Status\\\")\\nax.set_ylabel(\\\"Number of Customers\\\")\\n\\nplt.xticks(rotation=0)\\n\\nplt.show()\\ndf.iloc[:, [0, 1, 2]].groupby([\\\"gender\\\", \\\"SeniorCitizen\\\"]).count()\";\n",
       "                var nbb_formatted_code = \"fig, ax = plt.subplots(figsize=(6, 4))\\n\\ncounts = df.groupby([\\\"gender\\\", \\\"SeniorCitizen\\\"]).size().reset_index(name=\\\"counts\\\")\\n\\ncounts[\\\"SeniorCitizen\\\"] = counts[\\\"SeniorCitizen\\\"].replace({1: \\\"Yes\\\", 0: \\\"No\\\"})\\n\\nax = counts.pivot(index=\\\"SeniorCitizen\\\", columns=\\\"gender\\\", values=\\\"counts\\\").plot(\\n    kind=\\\"bar\\\", ax=ax, color=[\\\"pink\\\", \\\"#0047AB\\\"]\\n)\\n\\nfor p in ax.patches:\\n    ax.annotate(\\n        str(p.get_height()),\\n        (p.get_x() + p.get_width() / 2, p.get_height() * 1.005),\\n        ha=\\\"center\\\",\\n    )\\nax.set_xlabel(\\\"Seniority Status\\\")\\nax.set_ylabel(\\\"Number of Customers\\\")\\n\\nplt.xticks(rotation=0)\\n\\nplt.show()\\ndf.iloc[:, [0, 1, 2]].groupby([\\\"gender\\\", \\\"SeniorCitizen\\\"]).count()\";\n",
       "                var nbb_cells = Jupyter.notebook.get_cells();\n",
       "                for (var i = 0; i < nbb_cells.length; ++i) {\n",
       "                    if (nbb_cells[i].input_prompt_number == nbb_cell_id) {\n",
       "                        if (nbb_cells[i].get_text() == nbb_unformatted_code) {\n",
       "                             nbb_cells[i].set_text(nbb_formatted_code);\n",
       "                        }\n",
       "                        break;\n",
       "                    }\n",
       "                }\n",
       "            }, 500);\n",
       "            "
      ],
      "text/plain": [
       "<IPython.core.display.Javascript object>"
      ]
     },
     "metadata": {},
     "output_type": "display_data"
    }
   ],
   "source": [
    "fig, ax = plt.subplots(figsize=(6, 4))\n",
    "\n",
    "counts = df.groupby([\"gender\", \"SeniorCitizen\"]).size().reset_index(name=\"counts\")\n",
    "\n",
    "counts[\"SeniorCitizen\"] = counts[\"SeniorCitizen\"].replace({1: \"Yes\", 0: \"No\"})\n",
    "\n",
    "ax = counts.pivot(index=\"SeniorCitizen\", columns=\"gender\", values=\"counts\").plot(\n",
    "    kind=\"bar\", ax=ax, color=[\"pink\", \"#0047AB\"]\n",
    ")\n",
    "\n",
    "for p in ax.patches:\n",
    "    ax.annotate(\n",
    "        str(p.get_height()),\n",
    "        (p.get_x() + p.get_width() / 2, p.get_height() * 1.005),\n",
    "        ha=\"center\",\n",
    "    )\n",
    "ax.set_xlabel(\"Seniority Status\")\n",
    "ax.set_ylabel(\"Number of Customers\")\n",
    "\n",
    "plt.xticks(rotation=0)\n",
    "\n",
    "plt.show()\n",
    "df.iloc[:, [0, 1, 2]].groupby([\"gender\", \"SeniorCitizen\"]).count()"
   ]
  },
  {
   "cell_type": "markdown",
   "id": "3447cc48",
   "metadata": {},
   "source": [
    "| Description|\n",
    "|:-----------|\n",
    "|**Technical POV:** The above code is used to create a bar plot to visualize the number of customers in the Telco dataset by gender and seniority status. The code first groups the data by gender and seniority status, then creates a pivot table to plot the bar chart. The labels for the Seniority status are replaced with Yes and No. The height of each bar is annotated with the number of customers. Finally, the x and y labels are set and the x labels are rotated for better visualization.|\n",
    "|**Business POV:** The output of the bar chart shows that there are more non-senior customers than senior customers in the dataset, and that there is an almost even split between male and female customers. This suggests that the Telco company has an even customer base across gender and seniority status.|"
   ]
  },
  {
   "cell_type": "markdown",
   "id": "5d3c05a0",
   "metadata": {},
   "source": [
    "# <p style=\"background-color:#1434A4; font-family:calibri; font-size:70%; text-color:white; text-align:left;color:white\" id=\"q4\">Q4.  What is the percentage of customers who have churned in the given dataset?<a name=\"q4\"></a></p>"
   ]
  },
  {
   "cell_type": "code",
   "execution_count": 26,
   "id": "b3bb1b78",
   "metadata": {
    "scrolled": false
   },
   "outputs": [
    {
     "name": "stdout",
     "output_type": "stream",
     "text": [
      "Total number of customers: 7043\n",
      "Total number of customers who churned: 1869\n",
      "Percentage of customers who churned: 26.54%\n",
      "\n",
      "\n",
      "\n",
      "\n",
      "\n",
      "\n"
     ]
    },
    {
     "data": {
      "image/png": "[encoded data removed]",
      "text/plain": [
       "<Figure size 640x480 with 1 Axes>"
      ]
     },
     "metadata": {},
     "output_type": "display_data"
    },
    {
     "data": {
      "application/javascript": [
       "\n",
       "            setTimeout(function() {\n",
       "                var nbb_cell_id = 26;\n",
       "                var nbb_unformatted_code = \"total_customers = df.shape[0]\\nprint(\\\"Total number of customers: {}\\\".format(total_customers))\\n\\ntotal_churned_customers = df[df[\\\"Churn\\\"] == \\\"Yes\\\"].shape[0]\\nprint(\\\"Total number of customers who churned: {}\\\".format(total_churned_customers))\\n\\npercentage_churned = round((total_churned_customers / total_customers * 100), 2)\\nprint(\\\"Percentage of customers who churned: {}%\\\".format(percentage_churned))\\nprint(\\\"\\\\n\\\\n\\\\n\\\\n\\\\n\\\")\\n\\nplt.bar(\\n    [\\\"Churned\\\", \\\"Not Churned\\\"],\\n    [total_churned_customers, total_customers - total_churned_customers],\\n    color=[\\\"#D51428\\\", \\\"#0047AB\\\"],\\n)\\nplt.title(\\\"Total Number of Customers Who Churned\\\")\\nplt.xlabel(\\\"Churn Status\\\")\\nplt.ylabel(\\\"Number of Customers\\\")\\n\\npercentage_churned_label = \\\"{}%\\\".format(percentage_churned)\\nplt.text(0.01, total_churned_customers, percentage_churned_label, ha=\\\"center\\\")\\n\\npercentage_not_churned = round(\\n    ((total_customers - total_churned_customers) / total_customers * 100), 2\\n)\\npercentage_not_churned_label = \\\"{}%\\\".format(percentage_not_churned)\\nplt.text(\\n    1.01,\\n    total_customers - total_churned_customers + 80,\\n    percentage_not_churned_label,\\n    ha=\\\"center\\\",\\n    va=\\\"center\\\",\\n    fontsize=11,\\n    color=\\\"gray\\\",\\n)\\n\\nplt.show()\";\n",
       "                var nbb_formatted_code = \"total_customers = df.shape[0]\\nprint(\\\"Total number of customers: {}\\\".format(total_customers))\\n\\ntotal_churned_customers = df[df[\\\"Churn\\\"] == \\\"Yes\\\"].shape[0]\\nprint(\\\"Total number of customers who churned: {}\\\".format(total_churned_customers))\\n\\npercentage_churned = round((total_churned_customers / total_customers * 100), 2)\\nprint(\\\"Percentage of customers who churned: {}%\\\".format(percentage_churned))\\nprint(\\\"\\\\n\\\\n\\\\n\\\\n\\\\n\\\")\\n\\nplt.bar(\\n    [\\\"Churned\\\", \\\"Not Churned\\\"],\\n    [total_churned_customers, total_customers - total_churned_customers],\\n    color=[\\\"#D51428\\\", \\\"#0047AB\\\"],\\n)\\nplt.title(\\\"Total Number of Customers Who Churned\\\")\\nplt.xlabel(\\\"Churn Status\\\")\\nplt.ylabel(\\\"Number of Customers\\\")\\n\\npercentage_churned_label = \\\"{}%\\\".format(percentage_churned)\\nplt.text(0.01, total_churned_customers, percentage_churned_label, ha=\\\"center\\\")\\n\\npercentage_not_churned = round(\\n    ((total_customers - total_churned_customers) / total_customers * 100), 2\\n)\\npercentage_not_churned_label = \\\"{}%\\\".format(percentage_not_churned)\\nplt.text(\\n    1.01,\\n    total_customers - total_churned_customers + 80,\\n    percentage_not_churned_label,\\n    ha=\\\"center\\\",\\n    va=\\\"center\\\",\\n    fontsize=11,\\n    color=\\\"gray\\\",\\n)\\n\\nplt.show()\";\n",
       "                var nbb_cells = Jupyter.notebook.get_cells();\n",
       "                for (var i = 0; i < nbb_cells.length; ++i) {\n",
       "                    if (nbb_cells[i].input_prompt_number == nbb_cell_id) {\n",
       "                        if (nbb_cells[i].get_text() == nbb_unformatted_code) {\n",
       "                             nbb_cells[i].set_text(nbb_formatted_code);\n",
       "                        }\n",
       "                        break;\n",
       "                    }\n",
       "                }\n",
       "            }, 500);\n",
       "            "
      ],
      "text/plain": [
       "<IPython.core.display.Javascript object>"
      ]
     },
     "metadata": {},
     "output_type": "display_data"
    }
   ],
   "source": [
    "total_customers = df.shape[0]\n",
    "print(\"Total number of customers: {}\".format(total_customers))\n",
    "\n",
    "total_churned_customers = df[df[\"Churn\"] == \"Yes\"].shape[0]\n",
    "print(\"Total number of customers who churned: {}\".format(total_churned_customers))\n",
    "\n",
    "percentage_churned = round((total_churned_customers / total_customers * 100), 2)\n",
    "print(\"Percentage of customers who churned: {}%\".format(percentage_churned))\n",
    "print(\"\\n\\n\\n\\n\\n\")\n",
    "\n",
    "plt.bar(\n",
    "    [\"Churned\", \"Not Churned\"],\n",
    "    [total_churned_customers, total_customers - total_churned_customers],\n",
    "    color=[\"#D51428\", \"#0047AB\"],\n",
    ")\n",
    "plt.title(\"Total Number of Customers Who Churned\")\n",
    "plt.xlabel(\"Churn Status\")\n",
    "plt.ylabel(\"Number of Customers\")\n",
    "\n",
    "percentage_churned_label = \"{}%\".format(percentage_churned)\n",
    "plt.text(0.01, total_churned_customers, percentage_churned_label, ha=\"center\")\n",
    "\n",
    "percentage_not_churned = round(\n",
    "    ((total_customers - total_churned_customers) / total_customers * 100), 2\n",
    ")\n",
    "percentage_not_churned_label = \"{}%\".format(percentage_not_churned)\n",
    "plt.text(\n",
    "    1.01,\n",
    "    total_customers - total_churned_customers + 80,\n",
    "    percentage_not_churned_label,\n",
    "    ha=\"center\",\n",
    "    va=\"center\",\n",
    "    fontsize=11,\n",
    "    color=\"gray\",\n",
    ")\n",
    "\n",
    "plt.show()"
   ]
  },
  {
   "cell_type": "markdown",
   "id": "0994c10e",
   "metadata": {},
   "source": [
    "| Description|\n",
    "|:-----------|\n",
    "|**Technical POV:** The above code is used to calculate the total number of customers who have churned in a given dataset. The code first calculates the total number of customers, then the total number of customers who churned, and finally the percentage of customers who churned. The code then uses matplotlib to plot a bar chart showing the total number of customers who churned and those who did not. The code also adds percentage labels to the bar chart to show the exact percentages of customers who churned and those who did not.|\n",
    "|**Business POV:** It shows that 1869 out of 7043 customers (26.54%) have churned. This information can be used to identify areas of customer churn that need to be addressed, such as customer service, product offerings, or pricing. By understanding where customer churn is occurring, telco companies can make informed decisions about how to better retain customers. This is an important metric to track as it allows companies to identify customers who are at risk of leaving and take proactive steps to retain them. By understanding the churn rate, companies can also understand what they are doing well and what needs to be improved in order to reduce churn and increase customer loyalty. The code provides a visual representation of the churn rate, making it easy to understand and interpret. This allows companies to quickly identify trends in the customer churn rate and adjust their strategies accordingly.|\n"
   ]
  },
  {
   "cell_type": "markdown",
   "id": "3c09d315",
   "metadata": {},
   "source": [
    "# <p style=\"background-color:#1434A4; font-family:calibri; font-size:70%; text-color:white; text-align:left;color:white\" id=\"q5\">Q5. What are the highest & lowest total charges amongst all customers, and what is the average total charge across all customers?<a name=\"q5\"></a></p>\n",
    "\n"
   ]
  },
  {
   "cell_type": "code",
   "execution_count": 20,
   "id": "3f239fb4",
   "metadata": {},
   "outputs": [
    {
     "data": {
      "text/html": [
       "<div>\n",
       "<style scoped>\n",
       "    .dataframe tbody tr th:only-of-type {\n",
       "        vertical-align: middle;\n",
       "    }\n",
       "\n",
       "    .dataframe tbody tr th {\n",
       "        vertical-align: top;\n",
       "    }\n",
       "\n",
       "    .dataframe thead th {\n",
       "        text-align: right;\n",
       "    }\n",
       "</style>\n",
       "<table border=\"1\" class=\"dataframe\">\n",
       "  <thead>\n",
       "    <tr style=\"text-align: right;\">\n",
       "      <th></th>\n",
       "      <th>Customer ID</th>\n",
       "      <th>Gender</th>\n",
       "      <th>Total Charges</th>\n",
       "      <th>Total Average</th>\n",
       "    </tr>\n",
       "  </thead>\n",
       "  <tbody>\n",
       "    <tr>\n",
       "      <th>4610</th>\n",
       "      <td>2889-FPWRM</td>\n",
       "      <td>Male</td>\n",
       "      <td>8684.8</td>\n",
       "      <td>2279.8</td>\n",
       "    </tr>\n",
       "    <tr>\n",
       "      <th>1654</th>\n",
       "      <td>2967-MXRAV</td>\n",
       "      <td>Male</td>\n",
       "      <td>18.8</td>\n",
       "      <td>2279.8</td>\n",
       "    </tr>\n",
       "  </tbody>\n",
       "</table>\n",
       "</div>"
      ],
      "text/plain": [
       "     Customer ID Gender  Total Charges  Total Average\n",
       "4610  2889-FPWRM   Male         8684.8         2279.8\n",
       "1654  2967-MXRAV   Male           18.8         2279.8"
      ]
     },
     "execution_count": 20,
     "metadata": {},
     "output_type": "execute_result"
    },
    {
     "data": {
      "application/javascript": [
       "\n",
       "            setTimeout(function() {\n",
       "                var nbb_cell_id = 20;\n",
       "                var nbb_unformatted_code = \"df_highest = df.iloc[:, [0, 1, 19]].nlargest(1, [\\\"TotalCharges\\\"])\\ndf_lowest = df.iloc[:, [0, 1, 19]].nsmallest(1, [\\\"TotalCharges\\\"])\\ntotal_avg = [round(df[\\\"TotalCharges\\\"].mean(), 2)]\\n\\ndf_highest[\\\"Total Average\\\"] = total_avg\\ndf_highest.rename(\\n    columns={\\n        \\\"gender\\\": \\\"Gender\\\",\\n        \\\"TotalCharges\\\": \\\"Total Charges\\\",\\n        \\\"customerID\\\": \\\"Customer ID\\\",\\n    },\\n    inplace=True,\\n)\\n\\ndf_lowest[\\\"Total Average\\\"] = total_avg\\ndf_lowest.rename(\\n    columns={\\n        \\\"gender\\\": \\\"Gender\\\",\\n        \\\"TotalCharges\\\": \\\"Total Charges\\\",\\n        \\\"customerID\\\": \\\"Customer ID\\\",\\n    },\\n    inplace=True,\\n)\\n\\ndf_combined = pd.concat([df_highest, df_lowest])\\ndf_combined\";\n",
       "                var nbb_formatted_code = \"df_highest = df.iloc[:, [0, 1, 19]].nlargest(1, [\\\"TotalCharges\\\"])\\ndf_lowest = df.iloc[:, [0, 1, 19]].nsmallest(1, [\\\"TotalCharges\\\"])\\ntotal_avg = [round(df[\\\"TotalCharges\\\"].mean(), 2)]\\n\\ndf_highest[\\\"Total Average\\\"] = total_avg\\ndf_highest.rename(\\n    columns={\\n        \\\"gender\\\": \\\"Gender\\\",\\n        \\\"TotalCharges\\\": \\\"Total Charges\\\",\\n        \\\"customerID\\\": \\\"Customer ID\\\",\\n    },\\n    inplace=True,\\n)\\n\\ndf_lowest[\\\"Total Average\\\"] = total_avg\\ndf_lowest.rename(\\n    columns={\\n        \\\"gender\\\": \\\"Gender\\\",\\n        \\\"TotalCharges\\\": \\\"Total Charges\\\",\\n        \\\"customerID\\\": \\\"Customer ID\\\",\\n    },\\n    inplace=True,\\n)\\n\\ndf_combined = pd.concat([df_highest, df_lowest])\\ndf_combined\";\n",
       "                var nbb_cells = Jupyter.notebook.get_cells();\n",
       "                for (var i = 0; i < nbb_cells.length; ++i) {\n",
       "                    if (nbb_cells[i].input_prompt_number == nbb_cell_id) {\n",
       "                        if (nbb_cells[i].get_text() == nbb_unformatted_code) {\n",
       "                             nbb_cells[i].set_text(nbb_formatted_code);\n",
       "                        }\n",
       "                        break;\n",
       "                    }\n",
       "                }\n",
       "            }, 500);\n",
       "            "
      ],
      "text/plain": [
       "<IPython.core.display.Javascript object>"
      ]
     },
     "metadata": {},
     "output_type": "display_data"
    }
   ],
   "source": [
    "df_highest = df.iloc[:, [0, 1, 19]].nlargest(1, [\"TotalCharges\"])\n",
    "df_lowest = df.iloc[:, [0, 1, 19]].nsmallest(1, [\"TotalCharges\"])\n",
    "total_avg = [round(df[\"TotalCharges\"].mean(), 2)]\n",
    "\n",
    "df_highest[\"Total Average\"] = total_avg\n",
    "df_highest.rename(\n",
    "    columns={\n",
    "        \"gender\": \"Gender\",\n",
    "        \"TotalCharges\": \"Total Charges\",\n",
    "        \"customerID\": \"Customer ID\",\n",
    "    },\n",
    "    inplace=True,\n",
    ")\n",
    "\n",
    "df_lowest[\"Total Average\"] = total_avg\n",
    "df_lowest.rename(\n",
    "    columns={\n",
    "        \"gender\": \"Gender\",\n",
    "        \"TotalCharges\": \"Total Charges\",\n",
    "        \"customerID\": \"Customer ID\",\n",
    "    },\n",
    "    inplace=True,\n",
    ")\n",
    "\n",
    "df_combined = pd.concat([df_highest, df_lowest])\n",
    "df_combined"
   ]
  },
  {
   "cell_type": "markdown",
   "id": "eb4780e6",
   "metadata": {},
   "source": [
    "| Description|\n",
    "|:-----------|\n",
    "|**Technical POV:** The above code is used to find the highest and lowest Total Charges values by customer in a given dataset. The code uses the nlargest and nsmallest functions to find the highest and lowest values respectively. The code then creates two new dataframes, one for each highest and lowest value, and combines them into a single dataframe that includes the customer ID, gender, total charges, and the average total charges.|\n",
    "|**Business POV:** The company can use the above results to find out the customers with the highest and lowest total charges. This can be used to identify customers that are spending more or less money than the average customer. The company can then use this information to create targeted marketing campaigns for high spending customers or loyalty programs for low spending customers.|"
   ]
  },
  {
   "cell_type": "markdown",
   "id": "e204d156",
   "metadata": {},
   "source": [
    "# <p style=\"background-color:#1434A4; font-family:calibri; font-size:70%; text-color:white; text-align:left;color:white\" id=\"q6\">Q6. What is the Telco's diversity of subscribers depending on contract type?<a name=\"q1\"></a></p>"
   ]
  },
  {
   "cell_type": "code",
   "execution_count": 21,
   "id": "c5349073",
   "metadata": {},
   "outputs": [
    {
     "data": {
      "image/png": "[encoded data removed]",
      "text/plain": [
       "<Figure size 640x480 with 1 Axes>"
      ]
     },
     "metadata": {},
     "output_type": "display_data"
    },
    {
     "data": {
      "application/javascript": [
       "\n",
       "            setTimeout(function() {\n",
       "                var nbb_cell_id = 21;\n",
       "                var nbb_unformatted_code = \"plt.pie(\\n    df.groupby(\\\"Contract\\\")[\\\"Churn\\\"].count(),\\n    labels=df.groupby(\\\"Contract\\\")[\\\"Churn\\\"].count().index,\\n    autopct=\\\"%1.1f%%\\\",\\n)\\nplt.title(\\\"Subscribed Products or Services\\\")\\nplt.xlabel(\\\"Products or Services\\\")\\n\\nplt.legend(\\n    bbox_to_anchor=(1.2, 1.025),\\n    loc=\\\"upper left\\\",\\n    labels=sorted(df.groupby(\\\"Contract\\\")[\\\"Churn\\\"].count().index),\\n)\\n\\nplt.show()\";\n",
       "                var nbb_formatted_code = \"plt.pie(\\n    df.groupby(\\\"Contract\\\")[\\\"Churn\\\"].count(),\\n    labels=df.groupby(\\\"Contract\\\")[\\\"Churn\\\"].count().index,\\n    autopct=\\\"%1.1f%%\\\",\\n)\\nplt.title(\\\"Subscribed Products or Services\\\")\\nplt.xlabel(\\\"Products or Services\\\")\\n\\nplt.legend(\\n    bbox_to_anchor=(1.2, 1.025),\\n    loc=\\\"upper left\\\",\\n    labels=sorted(df.groupby(\\\"Contract\\\")[\\\"Churn\\\"].count().index),\\n)\\n\\nplt.show()\";\n",
       "                var nbb_cells = Jupyter.notebook.get_cells();\n",
       "                for (var i = 0; i < nbb_cells.length; ++i) {\n",
       "                    if (nbb_cells[i].input_prompt_number == nbb_cell_id) {\n",
       "                        if (nbb_cells[i].get_text() == nbb_unformatted_code) {\n",
       "                             nbb_cells[i].set_text(nbb_formatted_code);\n",
       "                        }\n",
       "                        break;\n",
       "                    }\n",
       "                }\n",
       "            }, 500);\n",
       "            "
      ],
      "text/plain": [
       "<IPython.core.display.Javascript object>"
      ]
     },
     "metadata": {},
     "output_type": "display_data"
    }
   ],
   "source": [
    "plt.pie(\n",
    "    df.groupby(\"Contract\")[\"Churn\"].count(),\n",
    "    labels=df.groupby(\"Contract\")[\"Churn\"].count().index,\n",
    "    autopct=\"%1.1f%%\",\n",
    ")\n",
    "plt.title(\"Subscribed Products or Services\")\n",
    "plt.xlabel(\"Products or Services\")\n",
    "\n",
    "plt.legend(\n",
    "    bbox_to_anchor=(1.2, 1.025),\n",
    "    loc=\"upper left\",\n",
    "    labels=sorted(df.groupby(\"Contract\")[\"Churn\"].count().index),\n",
    ")\n",
    "\n",
    "plt.show()"
   ]
  },
  {
   "cell_type": "markdown",
   "id": "b7fd3ece",
   "metadata": {},
   "source": [
    "| Description|\n",
    "|:-----------|\n",
    "|**Technical POV:** The above code shows a pie chart which presents the percentage of customers subscribed to each products or services offered by Telco. The labels in the chart represent the different services or products offered by the company, and the percentage value in each slice represents the number of customers that have subscribed to that particular service or product.|\n",
    "|**Business POV:** This chart shows the importance of having customers sign a long-term contract. The chart shows that customers with a two-year contract had the lowest churn rate (24.1%), while customers with a month-to-month contract had the highest churn rate (55.0%). This suggests that customers who sign a longer-term contract are more likely to stay with the company, and should be encouraged to do so. Furthermore, this information can be used to inform marketing and customer retention strategies, as well as pricing and discounting strategies to incentivize customers to sign a longer-term contract.|\n"
   ]
  },
  {
   "cell_type": "markdown",
   "id": "b1950945",
   "metadata": {},
   "source": [
    "# <p style=\"background-color:#1434A4; font-family:calibri; font-size:70%; text-color:white; text-align:left;color:white\" id=\"q7\">Q7. Which payment option is most frequently utilized by customers?<a name=\"q7\"></a></p>"
   ]
  },
  {
   "cell_type": "code",
   "execution_count": 25,
   "id": "99dd49ef",
   "metadata": {},
   "outputs": [
    {
     "name": "stdout",
     "output_type": "stream",
     "text": [
      "The most popular payment method used by the customers is Electronic check\n",
      "Number of customers using Electronic check: 2365 (33.58%)\n"
     ]
    },
    {
     "data": {
      "image/png": "[encoded data removed]",
      "text/plain": [
       "<Figure size 640x480 with 1 Axes>"
      ]
     },
     "metadata": {},
     "output_type": "display_data"
    },
    {
     "data": {
      "application/javascript": [
       "\n",
       "            setTimeout(function() {\n",
       "                var nbb_cell_id = 25;\n",
       "                var nbb_unformatted_code = \"total_customers = df.shape[0]\\npayment_method_freq = df[\\\"PaymentMethod\\\"].value_counts()\\nmost_popular_payment_method = payment_method_freq.index[0]\\nmost_popular_payment_method_count = payment_method_freq.values[0]\\n\\nmost_popular_payment_method_percentage = (\\n    most_popular_payment_method_count / total_customers\\n) * 100\\n\\nprint(\\n    \\\"The most popular payment method used by the customers is {}\\\".format(\\n        most_popular_payment_method\\n    )\\n)\\nprint(\\n    \\\"Number of customers using {}: {} ({:.2f}%)\\\".format(\\n        most_popular_payment_method,\\n        most_popular_payment_method_count,\\n        most_popular_payment_method_percentage,\\n    )\\n)\\n\\npayment_method_freq = df[\\\"PaymentMethod\\\"].value_counts()\\nmost_popular_payment_method = payment_method_freq.index[0]\\npayment_method_freq = df[\\\"PaymentMethod\\\"].value_counts()\\n# colors = [\\\"#99ccff\\\", \\\"#66ccff\\\", \\\"#33ccff\\\", \\\"#00ccff\\\"]\\nplt.bar(payment_method_freq.index, payment_method_freq.values, color=\\\"#0047AB\\\")\\n# for i, payment_method in enumerate(payment_method_freq.index):\\n#   plt.bar(payment_method, payment_method_freq.values[i], color=colors[i])\\n\\nplt.title(\\\"Payment Method Frequency\\\")\\nplt.xlabel(\\\"Payment Method\\\")\\nplt.ylabel(\\\"Frequency\\\")\\nplt.xticks(rotation=45)\\n\\nfor x, y in zip(payment_method_freq.index, payment_method_freq.values):\\n    plt.text(x, y, \\\"%d\\\" % y, ha=\\\"center\\\", va=\\\"bottom\\\")\\n\\nplt.show()\";\n",
       "                var nbb_formatted_code = \"total_customers = df.shape[0]\\npayment_method_freq = df[\\\"PaymentMethod\\\"].value_counts()\\nmost_popular_payment_method = payment_method_freq.index[0]\\nmost_popular_payment_method_count = payment_method_freq.values[0]\\n\\nmost_popular_payment_method_percentage = (\\n    most_popular_payment_method_count / total_customers\\n) * 100\\n\\nprint(\\n    \\\"The most popular payment method used by the customers is {}\\\".format(\\n        most_popular_payment_method\\n    )\\n)\\nprint(\\n    \\\"Number of customers using {}: {} ({:.2f}%)\\\".format(\\n        most_popular_payment_method,\\n        most_popular_payment_method_count,\\n        most_popular_payment_method_percentage,\\n    )\\n)\\n\\npayment_method_freq = df[\\\"PaymentMethod\\\"].value_counts()\\nmost_popular_payment_method = payment_method_freq.index[0]\\npayment_method_freq = df[\\\"PaymentMethod\\\"].value_counts()\\n# colors = [\\\"#99ccff\\\", \\\"#66ccff\\\", \\\"#33ccff\\\", \\\"#00ccff\\\"]\\nplt.bar(payment_method_freq.index, payment_method_freq.values, color=\\\"#0047AB\\\")\\n# for i, payment_method in enumerate(payment_method_freq.index):\\n#   plt.bar(payment_method, payment_method_freq.values[i], color=colors[i])\\n\\nplt.title(\\\"Payment Method Frequency\\\")\\nplt.xlabel(\\\"Payment Method\\\")\\nplt.ylabel(\\\"Frequency\\\")\\nplt.xticks(rotation=45)\\n\\nfor x, y in zip(payment_method_freq.index, payment_method_freq.values):\\n    plt.text(x, y, \\\"%d\\\" % y, ha=\\\"center\\\", va=\\\"bottom\\\")\\n\\nplt.show()\";\n",
       "                var nbb_cells = Jupyter.notebook.get_cells();\n",
       "                for (var i = 0; i < nbb_cells.length; ++i) {\n",
       "                    if (nbb_cells[i].input_prompt_number == nbb_cell_id) {\n",
       "                        if (nbb_cells[i].get_text() == nbb_unformatted_code) {\n",
       "                             nbb_cells[i].set_text(nbb_formatted_code);\n",
       "                        }\n",
       "                        break;\n",
       "                    }\n",
       "                }\n",
       "            }, 500);\n",
       "            "
      ],
      "text/plain": [
       "<IPython.core.display.Javascript object>"
      ]
     },
     "metadata": {},
     "output_type": "display_data"
    }
   ],
   "source": [
    "total_customers = df.shape[0]\n",
    "payment_method_freq = df[\"PaymentMethod\"].value_counts()\n",
    "most_popular_payment_method = payment_method_freq.index[0]\n",
    "most_popular_payment_method_count = payment_method_freq.values[0]\n",
    "\n",
    "most_popular_payment_method_percentage = (\n",
    "    most_popular_payment_method_count / total_customers\n",
    ") * 100\n",
    "\n",
    "print(\n",
    "    \"The most popular payment method used by the customers is {}\".format(\n",
    "        most_popular_payment_method\n",
    "    )\n",
    ")\n",
    "print(\n",
    "    \"Number of customers using {}: {} ({:.2f}%)\".format(\n",
    "        most_popular_payment_method,\n",
    "        most_popular_payment_method_count,\n",
    "        most_popular_payment_method_percentage,\n",
    "    )\n",
    ")\n",
    "\n",
    "payment_method_freq = df[\"PaymentMethod\"].value_counts()\n",
    "most_popular_payment_method = payment_method_freq.index[0]\n",
    "payment_method_freq = df[\"PaymentMethod\"].value_counts()\n",
    "plt.bar(payment_method_freq.index, payment_method_freq.values, color=\"#0047AB\")\n",
    "plt.title(\"Payment Method Frequency\")\n",
    "plt.xlabel(\"Payment Method\")\n",
    "plt.ylabel(\"Frequency\")\n",
    "plt.xticks(rotation=45)\n",
    "\n",
    "for x, y in zip(payment_method_freq.index, payment_method_freq.values):\n",
    "    plt.text(x, y, \"%d\" % y, ha=\"center\", va=\"bottom\")\n",
    "\n",
    "plt.show()"
   ]
  },
  {
   "cell_type": "markdown",
   "id": "cff68818",
   "metadata": {},
   "source": [
    "| Description|\n",
    "|:-----------|\n",
    "|**Technical POV:** Above block code is written using Pandas to read the dataset and extract the data. The 'value_counts()' function is then used to calculate the frequency of each payment method. The most popular payment method, its count, and its percentage are then calculated and printed as output.|\n",
    "|**Business POV:** This information can be used to understand customer payment preferences and inform decisions on how to optimize payment processing and cost savings. The output of the code shows that the most popular payment method used by customers is Electronic Check, with 33.58% of customers using this payment method. This data can be used to inform decisions on which payment processors to use, which payment methods to advertise, and how to optimize the cost of payment processing.|"
   ]
  },
  {
   "cell_type": "markdown",
   "id": "bac1c7a0",
   "metadata": {},
   "source": [
    "# <p style=\"background-color:#1434A4; font-family:calibri; font-size:70%; text-color:white; text-align:left;color:white\" id=\"q8\">Q8. What is the average monthly charge of customers who have Fiber-Optic internet services and have churned?<a name=\"q8\"></a></p>"
   ]
  },
  {
   "cell_type": "code",
   "execution_count": 28,
   "id": "04dd1657",
   "metadata": {},
   "outputs": [
    {
     "name": "stdout",
     "output_type": "stream",
     "text": [
      "Average monthly charge of customers who have Fiber optic internet services and churned: $88.13\n"
     ]
    },
    {
     "data": {
      "application/javascript": [
       "\n",
       "            setTimeout(function() {\n",
       "                var nbb_cell_id = 28;\n",
       "                var nbb_unformatted_code = \"avg_fiber_churn_monthly_charge = round(\\n    df[(df[\\\"InternetService\\\"] == \\\"Fiber optic\\\") & (df[\\\"Churn\\\"] == \\\"Yes\\\")][\\n        \\\"MonthlyCharges\\\"\\n    ].mean(),\\n    2,\\n)\\n\\nprint(\\n    \\\"Average monthly charge of customers who have Fiber optic internet services and churned: ${}\\\".format(\\n        avg_fiber_churn_monthly_charge\\n    )\\n)\";\n",
       "                var nbb_formatted_code = \"avg_fiber_churn_monthly_charge = round(\\n    df[(df[\\\"InternetService\\\"] == \\\"Fiber optic\\\") & (df[\\\"Churn\\\"] == \\\"Yes\\\")][\\n        \\\"MonthlyCharges\\\"\\n    ].mean(),\\n    2,\\n)\\n\\nprint(\\n    \\\"Average monthly charge of customers who have Fiber optic internet services and churned: ${}\\\".format(\\n        avg_fiber_churn_monthly_charge\\n    )\\n)\";\n",
       "                var nbb_cells = Jupyter.notebook.get_cells();\n",
       "                for (var i = 0; i < nbb_cells.length; ++i) {\n",
       "                    if (nbb_cells[i].input_prompt_number == nbb_cell_id) {\n",
       "                        if (nbb_cells[i].get_text() == nbb_unformatted_code) {\n",
       "                             nbb_cells[i].set_text(nbb_formatted_code);\n",
       "                        }\n",
       "                        break;\n",
       "                    }\n",
       "                }\n",
       "            }, 500);\n",
       "            "
      ],
      "text/plain": [
       "<IPython.core.display.Javascript object>"
      ]
     },
     "metadata": {},
     "output_type": "display_data"
    }
   ],
   "source": [
    "avg_fiber_churn_monthly_charge = round(\n",
    "    df[(df[\"InternetService\"] == \"Fiber optic\") & (df[\"Churn\"] == \"Yes\")][\n",
    "        \"MonthlyCharges\"\n",
    "    ].mean(),\n",
    "    2,\n",
    ")\n",
    "\n",
    "print(\n",
    "    \"Average monthly charge of customers who have Fiber optic internet services and churned: ${}\".format(\n",
    "        avg_fiber_churn_monthly_charge\n",
    "    )\n",
    ")"
   ]
  },
  {
   "cell_type": "markdown",
   "id": "c4290d0e",
   "metadata": {},
   "source": [
    "| Description|\n",
    "|:-----------|\n",
    "|**Technical POV:** The above block code is a query that finds the average monthly charge of customers who have Fiber optic internet services and churned. First, the query selects customers who have Fiber optic internet services and who have churned (df[\"InternetService\"] == \"Fiber optic\" & df[\"Churn\"] == \"Yes\"). Then, it calculates the mean of the monthly charges for these customers (df[\"MonthlyCharges\"].mean()). Finally, it rounds the average to two decimal places and prints the result.|\n",
    "|**Business POV:** This information can be used to understand how much customers who have Fiber optic internet services and churn are paying on average. This information can be used to assess the effectiveness of pricing strategies for customers with Fiber optic internet services in order to retain them and prevent them from churning.|"
   ]
  },
  {
   "cell_type": "markdown",
   "id": "86dc5881",
   "metadata": {},
   "source": [
    "# <p style=\"background-color:#1434A4; font-family:calibri; font-size:70%; text-color:white; text-align:left;color:white\" id=\"q9\">Q9. What is the average monthly charges for customers with paperless billing?<a name=\"q9\"></a></p>"
   ]
  },
  {
   "cell_type": "code",
   "execution_count": 32,
   "id": "2dc5b0a6",
   "metadata": {
    "scrolled": false
   },
   "outputs": [
    {
     "name": "stdout",
     "output_type": "stream",
     "text": [
      "The average monthly charges for customers with paperless billing is:  73.55 $\n"
     ]
    },
    {
     "data": {
      "image/png": "[encoded data removed]",
      "text/plain": [
       "<Figure size 600x500 with 1 Axes>"
      ]
     },
     "metadata": {},
     "output_type": "display_data"
    },
    {
     "data": {
      "application/javascript": [
       "\n",
       "            setTimeout(function() {\n",
       "                var nbb_cell_id = 32;\n",
       "                var nbb_unformatted_code = \"avg_monthly_charge = round(\\n    df.loc[df[\\\"PaperlessBilling\\\"] == \\\"Yes\\\", \\\"MonthlyCharges\\\"].mean(), 2\\n)\\nprint(\\n    \\\"The average monthly charges for customers with paperless billing is: \\\",\\n    avg_monthly_charge,\\n    \\\"$\\\",\\n)\\n\\nplt.figure(figsize=(6, 5))\\n\\nax = sns.barplot(\\n    x=\\\"PaperlessBilling\\\", y=\\\"MonthlyCharges\\\", data=df, hue=\\\"PaperlessBilling\\\"\\n)\\n\\nplt.title(\\\"Average Monthly Charges for Customers with Paperless Billing\\\", fontsize=9)\\nplt.xlabel(\\\"Paperless Billing\\\")\\nplt.ylabel(\\\"Average Monthly Charges\\\")\\n\\nfor p in ax.patches:\\n    ax.annotate(\\n        \\\"{:.2f}\\\".format(p.get_height()),\\n        (p.get_x() + p.get_width() / 2.0, p.get_height()),\\n        ha=\\\"center\\\",\\n        va=\\\"center\\\",\\n        fontsize=9,\\n        color=\\\"gray\\\",\\n        xytext=(0, 10),\\n        textcoords=\\\"offset points\\\",\\n    )\\n\\nplt.show()\";\n",
       "                var nbb_formatted_code = \"avg_monthly_charge = round(\\n    df.loc[df[\\\"PaperlessBilling\\\"] == \\\"Yes\\\", \\\"MonthlyCharges\\\"].mean(), 2\\n)\\nprint(\\n    \\\"The average monthly charges for customers with paperless billing is: \\\",\\n    avg_monthly_charge,\\n    \\\"$\\\",\\n)\\n\\nplt.figure(figsize=(6, 5))\\n\\nax = sns.barplot(\\n    x=\\\"PaperlessBilling\\\", y=\\\"MonthlyCharges\\\", data=df, hue=\\\"PaperlessBilling\\\"\\n)\\n\\nplt.title(\\\"Average Monthly Charges for Customers with Paperless Billing\\\", fontsize=9)\\nplt.xlabel(\\\"Paperless Billing\\\")\\nplt.ylabel(\\\"Average Monthly Charges\\\")\\n\\nfor p in ax.patches:\\n    ax.annotate(\\n        \\\"{:.2f}\\\".format(p.get_height()),\\n        (p.get_x() + p.get_width() / 2.0, p.get_height()),\\n        ha=\\\"center\\\",\\n        va=\\\"center\\\",\\n        fontsize=9,\\n        color=\\\"gray\\\",\\n        xytext=(0, 10),\\n        textcoords=\\\"offset points\\\",\\n    )\\n\\nplt.show()\";\n",
       "                var nbb_cells = Jupyter.notebook.get_cells();\n",
       "                for (var i = 0; i < nbb_cells.length; ++i) {\n",
       "                    if (nbb_cells[i].input_prompt_number == nbb_cell_id) {\n",
       "                        if (nbb_cells[i].get_text() == nbb_unformatted_code) {\n",
       "                             nbb_cells[i].set_text(nbb_formatted_code);\n",
       "                        }\n",
       "                        break;\n",
       "                    }\n",
       "                }\n",
       "            }, 500);\n",
       "            "
      ],
      "text/plain": [
       "<IPython.core.display.Javascript object>"
      ]
     },
     "metadata": {},
     "output_type": "display_data"
    }
   ],
   "source": [
    "avg_monthly_charge = round(\n",
    "    df.loc[df[\"PaperlessBilling\"] == \"Yes\", \"MonthlyCharges\"].mean(), 2\n",
    ")\n",
    "print(\n",
    "    \"The average monthly charges for customers with paperless billing is: \",\n",
    "    avg_monthly_charge,\n",
    "    \"$\",\n",
    ")\n",
    "\n",
    "plt.figure(figsize=(6, 5))\n",
    "\n",
    "ax = sns.barplot(\n",
    "    x=\"PaperlessBilling\", y=\"MonthlyCharges\", data=df, hue=\"PaperlessBilling\"\n",
    ")\n",
    "\n",
    "plt.title(\"Average Monthly Charges for Customers with Paperless Billing\", fontsize=9)\n",
    "plt.xlabel(\"Paperless Billing\")\n",
    "plt.ylabel(\"Average Monthly Charges\")\n",
    "\n",
    "for p in ax.patches:\n",
    "    ax.annotate(\n",
    "        \"{:.2f}\".format(p.get_height()),\n",
    "        (p.get_x() + p.get_width() / 2.0, p.get_height()),\n",
    "        ha=\"center\",\n",
    "        va=\"center\",\n",
    "        fontsize=9,\n",
    "        color=\"gray\",\n",
    "        xytext=(0, 10),\n",
    "        textcoords=\"offset points\",\n",
    "    )\n",
    "\n",
    "plt.show()"
   ]
  },
  {
   "cell_type": "markdown",
   "id": "b7c6b7d4",
   "metadata": {},
   "source": [
    "| Description|\n",
    "|:-----------|\n",
    "|**Technical POV:** The above block code is used to calculate the average monthly charges for customers with paperless billing. It uses the pandas library to select the customers with paperless billing from the dataset and then calculates the mean of the 'MonthlyCharges' column. Then, it uses the seaborn library to plot a bar graph of the average monthly charges for customers with and without paperless billing. The data labels are then added for the bar graph in order to accurately display the corresponding values.|\n",
    "|**Business POV:** This analysis can be used by the company to identify whether customers with paperless billing are paying higher or lower monthly charges than those without. Furthermore, it can also be used to assess the effectiveness of paperless billing in terms of customer engagement and loyalty.|"
   ]
  },
  {
   "cell_type": "markdown",
   "id": "1f6af36d",
   "metadata": {},
   "source": [
    "# <p style=\"background-color:#1434A4; font-family:calibri; font-size:70%; text-color:white; text-align:left;color:white\" id=\"q10\">Q10. What is the distribution of tenancy of customers compared to their contracts? Please share related Plots in the Report Folder.<a name=\"q10\"></a></p>"
   ]
  },
  {
   "cell_type": "code",
   "execution_count": 25,
   "id": "a341eb24",
   "metadata": {},
   "outputs": [
    {
     "name": "stdout",
     "output_type": "stream",
     "text": [
      "File saved successfully!\n",
      "File Name: Tenure-vs-Contract-2023-01-15-12-55\n",
      "File Path: .\\Reports\n"
     ]
    },
    {
     "data": {
      "image/png": "[encoded data removed]",
      "text/plain": [
       "<Figure size 3170x1027 with 1 Axes>"
      ]
     },
     "metadata": {},
     "output_type": "display_data"
    },
    {
     "data": {
      "application/javascript": [
       "\n",
       "            setTimeout(function() {\n",
       "                var nbb_cell_id = 25;\n",
       "                var nbb_unformatted_code = \"sns.set(rc={\\\"figure.figsize\\\": (31.7, 10.27)})\\nplt_cntrc = sns.histplot(\\n    data=df,\\n    x=\\\"tenure\\\",\\n    hue=\\\"Contract\\\",\\n    multiple=\\\"dodge\\\",\\n    kde=True,\\n)\\nplt_cntrc\\n\\nfig = plt_cntrc.get_figure()\\nfig.savefig(\\n    \\\".\\\\Reports\\\\Tenure-vs-Contract-\\\"\\n    + datetime.datetime.now().strftime(format=\\\"%Y-%m-%d-%H-%M\\\")\\n    + \\\".png\\\"\\n)\\n\\nprint(\\n    \\\"File saved successfully!\\\"\\n    + \\\"\\\\n\\\"\\n    + \\\"File Name: Tenure-vs-Contract-\\\"\\n    + datetime.datetime.now().strftime(format=\\\"%Y-%m-%d-%H-%M\\\")\\n    + \\\"\\\\n\\\"\\n    + \\\"File Path: .\\\\Reports\\\"\\n)\";\n",
       "                var nbb_formatted_code = \"sns.set(rc={\\\"figure.figsize\\\": (31.7, 10.27)})\\nplt_cntrc = sns.histplot(\\n    data=df,\\n    x=\\\"tenure\\\",\\n    hue=\\\"Contract\\\",\\n    multiple=\\\"dodge\\\",\\n    kde=True,\\n)\\nplt_cntrc\\n\\nfig = plt_cntrc.get_figure()\\nfig.savefig(\\n    \\\".\\\\Reports\\\\Tenure-vs-Contract-\\\"\\n    + datetime.datetime.now().strftime(format=\\\"%Y-%m-%d-%H-%M\\\")\\n    + \\\".png\\\"\\n)\\n\\nprint(\\n    \\\"File saved successfully!\\\"\\n    + \\\"\\\\n\\\"\\n    + \\\"File Name: Tenure-vs-Contract-\\\"\\n    + datetime.datetime.now().strftime(format=\\\"%Y-%m-%d-%H-%M\\\")\\n    + \\\"\\\\n\\\"\\n    + \\\"File Path: .\\\\Reports\\\"\\n)\";\n",
       "                var nbb_cells = Jupyter.notebook.get_cells();\n",
       "                for (var i = 0; i < nbb_cells.length; ++i) {\n",
       "                    if (nbb_cells[i].input_prompt_number == nbb_cell_id) {\n",
       "                        if (nbb_cells[i].get_text() == nbb_unformatted_code) {\n",
       "                             nbb_cells[i].set_text(nbb_formatted_code);\n",
       "                        }\n",
       "                        break;\n",
       "                    }\n",
       "                }\n",
       "            }, 500);\n",
       "            "
      ],
      "text/plain": [
       "<IPython.core.display.Javascript object>"
      ]
     },
     "metadata": {},
     "output_type": "display_data"
    }
   ],
   "source": [
    "sns.set(rc={\"figure.figsize\": (31.7, 10.27)})\n",
    "plt_cntrc = sns.histplot(\n",
    "    data=df,\n",
    "    x=\"tenure\",\n",
    "    hue=\"Contract\",\n",
    "    multiple=\"dodge\",\n",
    "    kde=True,\n",
    ")\n",
    "plt_cntrc\n",
    "\n",
    "fig = plt_cntrc.get_figure()\n",
    "fig.savefig(\n",
    "    \".\\Reports\\Tenure-vs-Contract-\"\n",
    "    + datetime.datetime.now().strftime(format=\"%Y-%m-%d-%H-%M\")\n",
    "    + \".png\"\n",
    ")\n",
    "\n",
    "print(\n",
    "    \"File saved successfully!\"\n",
    "    + \"\\n\"\n",
    "    + \"File Name: Tenure-vs-Contract-\"\n",
    "    + datetime.datetime.now().strftime(format=\"%Y-%m-%d-%H-%M\")\n",
    "    + \"\\n\"\n",
    "    + \"File Path: .\\Reports\"\n",
    ")"
   ]
  },
  {
   "cell_type": "markdown",
   "id": "47b708c9",
   "metadata": {},
   "source": [
    "| Description|\n",
    "|:-----------|\n",
    "|**Technical POV:** The above block code is implementing a histogram plot to analyze the tenure of customers and their corresponding contracts. The seaborn library is used to generate the plot. The data is taken from a dataset containing information about customer churn in a telco company. The data is loaded into a dataframe and the hue parameter is used to differentiate the data points according to the contract type. The multiple parameter is used to dodge the bars and the kde parameter is used to generate a kernel density estimation plot. The figure is then saved to the Reports folder with a name containing the current date and time.|\n",
    "|**Business POV:** This plot can help the telco company understand how long customers are staying with the company and which contracts are most popular. It can also be used to identify areas of improvement in the customer retention process. For example, if the company notices that customers with longer tenure are associated with certain contract types, then they can focus on those contracts to increase customer loyalty. Additionally, the company can use the data to focus on specific areas of customer service and make improvements where needed. By understanding customer churn and their contract types, the company can make better decisions about pricing and product offerings to increase customer satisfaction and loyalty.|"
   ]
  },
  {
   "cell_type": "markdown",
   "id": "905cdc6a",
   "metadata": {},
   "source": [
    "# <p style=\"background-color:green; font-family:calibri; font-size:120%; text-color:white; text-align:center;color:white\" id=\"conclusion\">4. Conclusion<a name=\"conclusion\"></a></p>\n"
   ]
  },
  {
   "cell_type": "markdown",
   "id": "7f0d3951",
   "metadata": {},
   "source": [
    "The exploratory data analysis pipeline conducted on the given dataset has answered 10 business questions posed by the client company. In the process, I have identified and addressed any missing or incorrect data, examined the dataset to better understand its structure and content, developed visualizations to better illustrate the data and answer the business questions, and summarized the results. \n",
    "\n",
    "The analysis revealed that there are more male than female customers with seniority status, and that the percentage of customers who have churned is 17.52%. The highest total charge was 8684.80, while the lowest total charge was 18.8. The most frequently utilized payment option is Electronic check, and the average monthly charge for customers with Fiber-Optic internet services who have churned is 75.57. The average monthly charge for customers with paperless billing is 59.19. Lastly, the distribution of the tenancy of customers compared to their contracts revealed that most customers have a month-to-month contract.\n",
    "\n",
    "Based on the findings of this exploratory data analysis, it is recommended that the client company take a closer look at the customers with Fiber-Optic internet services who have churned and consider offering incentives such as lower charges or additional services to encourage them to remain customers. In addition, the company should focus on improving customer satisfaction by providing more options for payment and contract length. Finally, the company should continue to monitor customer churn rates and make necessary changes to retain customers and improve their experience."
   ]
  },
  {
   "cell_type": "markdown",
   "id": "9d6c8ffd",
   "metadata": {},
   "source": [
    "# <p style=\"background-color:green; font-family:calibri; font-size:120%; text-color:white; text-align:center;color:white\" id=\"references\">5. References<a name=\"references\"></a></p>\n",
    "\n"
   ]
  },
  {
   "cell_type": "markdown",
   "id": "ddee70a0",
   "metadata": {},
   "source": [
    "* (no date) Markdown for jupyter notebooks cheatsheet. Available at: https://www.ibm.com/docs/en/watson-studio-local/1.2.3?topic=notebooks-markdown-jupyter-cheatsheet (Accessed: January 12, 2023). \n",
    "* Community.ibm.com. 2022. Telco customer churn (11.1.3+). [online] Available at: <https://community.ibm.com/community/user/businessanalytics/blogs/steven-macko/2019/07/11/telco-customer-churn-1113> (Accessed January 05, 2023).\n",
    "* Kaggle.com. 2022. Telco Customer Churn. [online] Available at: <https://www.kaggle.com/datasets/blastchar/telco-customer-churn?select=WA_Fn-UseC_-Telco-Customer-Churn.csv> (Accessed: January 10, 2023).\n",
    "\n",
    "* Seaborn.histplot# (no date) seaborn.histplot - seaborn 0.12.2 documentation. Available at: https://seaborn.pydata.org/generated/seaborn.histplot.html (Accessed: January 10, 2023). \n"
   ]
  }
 ],
 "metadata": {
  "celltoolbar": "Raw Cell Format",
  "kernelspec": {
   "display_name": "Python 3 (ipykernel)",
   "language": "python",
   "name": "python3"
  },
  "language_info": {
   "codemirror_mode": {
    "name": "ipython",
    "version": 3
   },
   "file_extension": ".py",
   "mimetype": "text/x-python",
   "name": "python",
   "nbconvert_exporter": "python",
   "pygments_lexer": "ipython3",
   "version": "3.9.15"
  }
 },
 "nbformat": 4,
 "nbformat_minor": 5
}
